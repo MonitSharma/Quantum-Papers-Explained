{
 "cells": [
  {
   "cell_type": "markdown",
   "metadata": {},
   "source": [
    "# Quantum Random Access Coding for 5 bits with 2 qubits.\n",
    "\n",
    "We first import the libraries."
   ]
  },
  {
   "cell_type": "code",
   "execution_count": 1,
   "metadata": {
    "collapsed": true
   },
   "outputs": [],
   "source": [
    "import numpy as np\n",
    "from pprint import pprint\n",
    "import math"
   ]
  },
  {
   "cell_type": "markdown",
   "metadata": {},
   "source": [
    "\n",
    "## Encoding Quantum States\n",
    "\n",
    "We then give the encoding of quantum states for each bitstring $00000$ to $11111$ whose decimal representation is $0$ to $31$."
   ]
  },
  {
   "cell_type": "code",
   "execution_count": 2,
   "metadata": {
    "collapsed": true
   },
   "outputs": [],
   "source": [
    "encoding = {0: np.array([ 0.46060302+0.j        , -0.44117244-0.25884979j,\n",
    "            0.10581372-0.1216524j ,  0.20624432+0.67651752j]),\n",
    "            1: np.array([ 0.38987844+0.j        , -0.12793586-0.64954884j,\n",
    "            0.44510754+0.27135237j,  0.1085989 +0.3551999j ]),\n",
    "            2: np.array([ 0.52350975+0.j        , -0.18057232-0.61812062j,\n",
    "            0.12324507-0.15120292j, -0.51336059+0.09832244j]),\n",
    "            3: np.array([ 0.62560773+0.j        , -0.46232073-0.23658479j,\n",
    "            0.5382787 -0.0308131j , -0.21730954+0.03138949j]),\n",
    "            4: np.array([ 0.34973786+0.j        , -0.01523024+0.59324308j,\n",
    "            -0.1967809 -0.26962384j,  0.63722484-0.08965985j]),\n",
    "            5: np.array([-0.21823142-0.j        , -0.18808116-0.83520768j,\n",
    "            0.37852257+0.18987299j,  0.03094735+0.19783791j]),\n",
    "            6: np.array([-0.14206007-0.j        , -0.48523987+0.64253832j,\n",
    "            0.17991216-0.0126026j ,  0.13348914+0.53024442j]),\n",
    "            7: np.array([ 0.35133061+0.j        , -0.64482367+0.5421175j ,\n",
    "            0.29840585-0.1272706j , -0.20302845+0.14287566j]),\n",
    "            8: np.array([ 0.19788227+0.j        , -0.19546853-0.02294505j,\n",
    "            -0.058424  +0.24634003j,  0.87539065+0.30282441j]),\n",
    "            9: np.array([ 0.12415212+0.j        , -0.12269145-0.4015299j ,\n",
    "            0.46306933+0.36659624j,  0.67198261+0.08899529j]),\n",
    "            10: np.array([-0.33109961-0.j        , -0.03257685+0.27038679j,\n",
    "            -0.12233508+0.43080466j,  0.62155481+0.47886728j]),\n",
    "            11: np.array([ 0.44462681+0.j        , -0.31665894+0.01235002j,\n",
    "            0.58319905-0.11681905j, -0.21045441-0.55120116j]),\n",
    "            12: np.array([ 0.3934255 +0.j        , -0.10707687+0.11099245j,\n",
    "            -0.27371274-0.10385359j,  0.47534625-0.7139841j ]),\n",
    "            13: np.array([ 0.31128125+0.j        , -0.23246653+0.51417242j,\n",
    "            -0.37965697-0.12941521j, -0.37481608-0.53227363j]),\n",
    "            14: np.array([ 0.39914787+0.j        , -0.13556134-0.39222072j,\n",
    "            -0.25206493-0.10352329j, -0.26871116-0.72250088j]),\n",
    "            15: np.array([ 0.46251178+0.j        , -0.55867712+0.21113806j,\n",
    "            0.07821388+0.11523131j, -0.45361255-0.45191086j]),\n",
    "            16: np.array([ 0.82280752+0.j        ,  0.01887932-0.18721371j,\n",
    "            -0.12729444-0.12075281j,  0.22298306+0.45505584j]),\n",
    "            17: np.array([0.75743696+0.j        , 0.33118315-0.1825757j ,\n",
    "            0.16764989+0.37634982j, 0.01835142+0.33643816j]),\n",
    "            18: np.array([ 0.74309901+0.j        ,  0.26823479-0.39146343j,\n",
    "            0.0985631 -0.41894253j, -0.17062284+0.09094311j]),\n",
    "            19: np.array([-0.78988847-0.j        , -0.11621233-0.03864935j,\n",
    "            -0.57142854+0.02921993j,  0.14529538-0.11216948j]),\n",
    "            20: np.array([ 0.7665768 +0.j        ,  0.27284854+0.22605817j,\n",
    "            -0.28965735-0.18420222j,  0.40885177+0.04265879j]),\n",
    "            21: np.array([ 0.6850011 +0.j        ,  0.50116659+0.43299348j,\n",
    "            -0.19102122+0.2029418j , -0.0565472 +0.10606661j]),\n",
    "            22: np.array([-0.54719   -0.j        , -0.67046166+0.10892381j,\n",
    "            0.02945784+0.41939502j, -0.22093252+0.11674216j]),\n",
    "            23: np.array([-0.59916128-0.j        , -0.25594557-0.62119372j,\n",
    "            -0.36788068+0.08347068j,  0.0831701 -0.2009855j ]),\n",
    "            24: np.array([ 0.4930425 +0.j        , -0.16683636-0.08856975j,\n",
    "            -0.61116568+0.21585581j,  0.38678965+0.38923858j]),\n",
    "            25: np.array([-0.43325433-0.j        , -0.14167827-0.00183608j,\n",
    "            0.17657713-0.80885918j, -0.16765935-0.28048576j]),\n",
    "            26: np.array([-0.27502581-0.j        , -0.08142538+0.39873537j,\n",
    "            0.33381328+0.72690407j,  0.33392368-0.08611017j]),\n",
    "            27: np.array([ 0.35890993+0.j        , -0.02082703+0.20266007j,\n",
    "            0.79378705+0.38244933j, -0.01158185-0.23060633j]),\n",
    "            28: np.array([ 0.59846379+0.j        , -0.14546986+0.00824272j,\n",
    "            -0.66220851+0.02840536j,  0.34547028-0.24886738j]),\n",
    "            29: np.array([-0.51631111-0.j        , -0.00831342-0.4014248j ,\n",
    "            0.48756736-0.51231042j,  0.24765081+0.10342649j]),\n",
    "            30: np.array([ 0.35292916+0.j        , -0.11425472-0.50096324j,\n",
    "            -0.66029809-0.28392092j,  0.02630965-0.30679937j]),\n",
    "            31: np.array([ 0.38270137+0.j        , -0.33058049+0.43235904j,\n",
    "            0.16164855+0.64449138j, -0.31694724-0.12396337j])}"
   ]
  },
  {
   "cell_type": "markdown",
   "metadata": {},
   "source": [
    "## Decoding with Projective Measurements\n",
    "\n",
    "The decoding is performed by projecting the decoding states into the basis spanned by the decoding states as below. `decoding[j]` is a two-column matrix, where the columns denote the basis states of measuring \"0\" at position \"j\". "
   ]
  },
  {
   "cell_type": "code",
   "execution_count": 3,
   "metadata": {
    "collapsed": true
   },
   "outputs": [],
   "source": [
    "decoding = {0: np.array([[ 0.32946447+0.j        ,  0.23982509+0.j        ],\n",
    "            [-0.27602934-0.23599439j, -0.76488369+0.02212116j],\n",
    "            [ 0.13918902-0.08965755j,  0.32052472-0.20393215j],\n",
    "            [-0.57958565-0.62947282j,  0.43548   +0.15159247j]]),\n",
    "            1: np.array([[ 0.73333547+0.j        ,  0.51101245+0.j        ],\n",
    "            [-0.2049604 +0.3380134j ,  0.63539095-0.53418618j],\n",
    "            [ 0.2269588 -0.28037768j,  0.04406358+0.14598899j],\n",
    "            [ 0.15390896+0.3900607j , -0.16154911-0.02091006j]]),\n",
    "            2: np.array([[-0.5941751 -0.j        ,  0.48471108+0.j        ],\n",
    "            [ 0.08366908+0.378656j  , -0.00889837-0.20582562j],\n",
    "            [ 0.19378487-0.04818813j,  0.78862992-0.01523462j],\n",
    "            [ 0.05722694-0.67336875j, -0.00454976-0.31689408j]]),\n",
    "            3: np.array([[ 0.6305449 +0.j        ,  0.37781134+0.j        ],\n",
    "            [ 0.25294699-0.12478306j, -0.24451533+0.47531231j],\n",
    "            [-0.21497832+0.4090462j , -0.4147365 -0.22606081j],\n",
    "            [ 0.21728892+0.51196796j,  0.42980141-0.40461085j]]),\n",
    "            4: np.array([[-0.52384451-0.j        , -0.47747667-0.j        ],\n",
    "            [ 0.25362345+0.38833641j, -0.37985671+0.07768077j],\n",
    "            [ 0.37526312+0.3154401j ,  0.1973844 +0.22422402j],\n",
    "            [ 0.07028733-0.51496771j, -0.44601957+0.57751202j]])}"
   ]
  },
  {
   "cell_type": "markdown",
   "metadata": {},
   "source": [
    "## Exploring the success probabilities"
   ]
  },
  {
   "cell_type": "code",
   "execution_count": 4,
   "metadata": {
    "scrolled": false
   },
   "outputs": [
    {
     "name": "stdout",
     "output_type": "stream",
     "text": [
      "[Obtaining zero at  1-th bit of 00000 with. prob. 0.8121722024193337]\n",
      "[Obtaining zero at  1-th bit of 00001 with. prob. 0.8114192521828775]\n",
      "[Obtaining zero at  1-th bit of 00010 with. prob. 0.8134177464162217]\n",
      "[Obtaining zero at  1-th bit of 00011 with. prob. 0.8118327333173727]\n",
      "[Obtaining zero at  1-th bit of 00100 with. prob. 0.8114576841879755]\n",
      "[Obtaining zero at  1-th bit of 00101 with. prob. 0.8114230637279108]\n",
      "[Obtaining zero at  1-th bit of 00110 with. prob. 0.8117274650058297]\n",
      "[Obtaining zero at  1-th bit of 00111 with. prob. 0.8118487121054092]\n",
      "[Obtaining zero at  1-th bit of 01000 with. prob. 0.8127996637948736]\n",
      "[Obtaining zero at  1-th bit of 01001 with. prob. 0.8125887980300034]\n",
      "[Obtaining zero at  1-th bit of 01010 with. prob. 0.8116114089575099]\n",
      "[Obtaining zero at  1-th bit of 01011 with. prob. 0.8122038476566464]\n",
      "[Obtaining zero at  1-th bit of 01100 with. prob. 0.8115307045893142]\n",
      "[Obtaining zero at  1-th bit of 01101 with. prob. 0.8115215027284503]\n",
      "[Obtaining zero at  1-th bit of 01110 with. prob. 0.8117273517161115]\n",
      "[Obtaining zero at  1-th bit of 01111 with. prob. 0.8117268961400921]\n",
      "[Obtaining zero at  1-th bit of 10000 with. prob. 0.1885893475627088]\n",
      "[Obtaining zero at  1-th bit of 10001 with. prob. 0.18838413542999086]\n",
      "[Obtaining zero at  1-th bit of 10010 with. prob. 0.1886159068823737]\n",
      "[Obtaining zero at  1-th bit of 10011 with. prob. 0.18861076505468416]\n",
      "[Obtaining zero at  1-th bit of 10100 with. prob. 0.1881772453458785]\n",
      "[Obtaining zero at  1-th bit of 10101 with. prob. 0.1875143717861446]\n",
      "[Obtaining zero at  1-th bit of 10110 with. prob. 0.18861175353950582]\n",
      "[Obtaining zero at  1-th bit of 10111 with. prob. 0.18714675869683325]\n",
      "[Obtaining zero at  1-th bit of 11000 with. prob. 0.18861358349114551]\n",
      "[Obtaining zero at  1-th bit of 11001 with. prob. 0.18860307124041897]\n",
      "[Obtaining zero at  1-th bit of 11010 with. prob. 0.1885952762691397]\n",
      "[Obtaining zero at  1-th bit of 11011 with. prob. 0.18861600056700478]\n",
      "[Obtaining zero at  1-th bit of 11100 with. prob. 0.18851801319021422]\n",
      "[Obtaining zero at  1-th bit of 11101 with. prob. 0.18859878389193774]\n",
      "[Obtaining zero at  1-th bit of 11110 with. prob. 0.18659594756437872]\n",
      "[Obtaining zero at  1-th bit of 11111 with. prob. 0.18748445027828614]\n",
      "[Obtaining zero at  2-th bit of 00000 with. prob. 0.8118803564054982]\n",
      "[Obtaining zero at  2-th bit of 00001 with. prob. 0.8114160696265388]\n",
      "[Obtaining zero at  2-th bit of 00010 with. prob. 0.8126567147116384]\n",
      "[Obtaining zero at  2-th bit of 00011 with. prob. 0.8116332632265368]\n",
      "[Obtaining zero at  2-th bit of 00100 with. prob. 0.8114160856132784]\n",
      "[Obtaining zero at  2-th bit of 00101 with. prob. 0.8114160846435061]\n",
      "[Obtaining zero at  2-th bit of 00110 with. prob. 0.8115477942304452]\n",
      "[Obtaining zero at  2-th bit of 00111 with. prob. 0.8116538720301578]\n",
      "[Obtaining zero at  2-th bit of 01000 with. prob. 0.18775262523236316]\n",
      "[Obtaining zero at  2-th bit of 01001 with. prob. 0.18787508478061443]\n",
      "[Obtaining zero at  2-th bit of 01010 with. prob. 0.18858392213758596]\n",
      "[Obtaining zero at  2-th bit of 01011 with. prob. 0.18817509078845124]\n",
      "[Obtaining zero at  2-th bit of 01100 with. prob. 0.18858390373889572]\n",
      "[Obtaining zero at  2-th bit of 01101 with. prob. 0.18857042999307547]\n",
      "[Obtaining zero at  2-th bit of 01110 with. prob. 0.18850791834135078]\n",
      "[Obtaining zero at  2-th bit of 01111 with. prob. 0.18849192569807005]\n",
      "[Obtaining zero at  2-th bit of 10000 with. prob. 0.8114160727339176]\n",
      "[Obtaining zero at  2-th bit of 10001 with. prob. 0.8115493213296572]\n",
      "[Obtaining zero at  2-th bit of 10010 with. prob. 0.8114160639373873]\n",
      "[Obtaining zero at  2-th bit of 10011 with. prob. 0.8114160630568078]\n",
      "[Obtaining zero at  2-th bit of 10100 with. prob. 0.811692564886029]\n",
      "[Obtaining zero at  2-th bit of 10101 with. prob. 0.8121298052850866]\n",
      "[Obtaining zero at  2-th bit of 10110 with. prob. 0.8114160555060299]\n",
      "[Obtaining zero at  2-th bit of 10111 with. prob. 0.812374424707095]\n",
      "[Obtaining zero at  2-th bit of 11000 with. prob. 0.1885838937574769]\n",
      "[Obtaining zero at  2-th bit of 11001 with. prob. 0.1885839063497939]\n",
      "[Obtaining zero at  2-th bit of 11010 with. prob. 0.18856272737976437]\n",
      "[Obtaining zero at  2-th bit of 11011 with. prob. 0.18858392624267348]\n",
      "[Obtaining zero at  2-th bit of 11100 with. prob. 0.18852691010435743]\n",
      "[Obtaining zero at  2-th bit of 11101 with. prob. 0.18858392156554096]\n",
      "[Obtaining zero at  2-th bit of 11110 with. prob. 0.18723141534507698]\n",
      "[Obtaining zero at  2-th bit of 11111 with. prob. 0.18785450543640864]\n",
      "[Obtaining zero at  3-th bit of 00000 with. prob. 0.8121390776702688]\n",
      "[Obtaining zero at  3-th bit of 00001 with. prob. 0.8114160701625235]\n",
      "[Obtaining zero at  3-th bit of 00010 with. prob. 0.8132994060615781]\n",
      "[Obtaining zero at  3-th bit of 00011 with. prob. 0.8117447615859924]\n",
      "[Obtaining zero at  3-th bit of 00100 with. prob. 0.18858376389953063]\n",
      "[Obtaining zero at  3-th bit of 00101 with. prob. 0.18858387521030884]\n",
      "[Obtaining zero at  3-th bit of 00110 with. prob. 0.18838712403618993]\n",
      "[Obtaining zero at  3-th bit of 00111 with. prob. 0.18822778469202017]\n",
      "[Obtaining zero at  3-th bit of 01000 with. prob. 0.8126744098203575]\n",
      "[Obtaining zero at  3-th bit of 01001 with. prob. 0.8124989595753976]\n",
      "[Obtaining zero at  3-th bit of 01010 with. prob. 0.8114159361535088]\n",
      "[Obtaining zero at  3-th bit of 01011 with. prob. 0.8120423719364147]\n",
      "[Obtaining zero at  3-th bit of 01100 with. prob. 0.18858332629303098]\n",
      "[Obtaining zero at  3-th bit of 01101 with. prob. 0.18856312633622888]\n",
      "[Obtaining zero at  3-th bit of 01110 with. prob. 0.18847034271332835]\n",
      "[Obtaining zero at  3-th bit of 01111 with. prob. 0.18844313190589046]\n",
      "[Obtaining zero at  3-th bit of 10000 with. prob. 0.811416051124135]\n",
      "[Obtaining zero at  3-th bit of 10001 with. prob. 0.8116151332348447]\n",
      "[Obtaining zero at  3-th bit of 10010 with. prob. 0.8114160145768343]\n",
      "[Obtaining zero at  3-th bit of 10011 with. prob. 0.8114160392874841]\n",
      "[Obtaining zero at  3-th bit of 10100 with. prob. 0.18816162958541732]\n",
      "[Obtaining zero at  3-th bit of 10101 with. prob. 0.18751101169511258]\n",
      "[Obtaining zero at  3-th bit of 10110 with. prob. 0.1885837025404195]\n",
      "[Obtaining zero at  3-th bit of 10111 with. prob. 0.18712799774345903]\n",
      "[Obtaining zero at  3-th bit of 11000 with. prob. 0.8114159814163465]\n",
      "[Obtaining zero at  3-th bit of 11001 with. prob. 0.811416020568523]\n",
      "[Obtaining zero at  3-th bit of 11010 with. prob. 0.8114470037729753]\n",
      "[Obtaining zero at  3-th bit of 11011 with. prob. 0.811415959714387]\n",
      "[Obtaining zero at  3-th bit of 11100 with. prob. 0.18849676036355212]\n",
      "[Obtaining zero at  3-th bit of 11101 with. prob. 0.18858345206395946]\n",
      "[Obtaining zero at  3-th bit of 11110 with. prob. 0.1865486957077527]\n",
      "[Obtaining zero at  3-th bit of 11111 with. prob. 0.18744402391592505]\n",
      "[Obtaining zero at  4-th bit of 00000 with. prob. 0.8124405063277134]\n",
      "[Obtaining zero at  4-th bit of 00001 with. prob. 0.8121272950976222]\n",
      "[Obtaining zero at  4-th bit of 00010 with. prob. 0.18723827020464817]\n",
      "[Obtaining zero at  4-th bit of 00011 with. prob. 0.18844249518872563]\n",
      "[Obtaining zero at  4-th bit of 00100 with. prob. 0.8114687582130014]\n",
      "[Obtaining zero at  4-th bit of 00101 with. prob. 0.8116892425164027]\n",
      "[Obtaining zero at  4-th bit of 00110 with. prob. 0.18844466755396125]\n",
      "[Obtaining zero at  4-th bit of 00111 with. prob. 0.18833890364301256]\n",
      "[Obtaining zero at  4-th bit of 01000 with. prob. 0.8131989542512388]\n",
      "[Obtaining zero at  4-th bit of 01001 with. prob. 0.8132701311253484]\n",
      "[Obtaining zero at  4-th bit of 01010 with. prob. 0.18883042963385657]\n",
      "[Obtaining zero at  4-th bit of 01011 with. prob. 0.18838130295984926]\n",
      "[Obtaining zero at  4-th bit of 01100 with. prob. 0.8115228082427404]\n",
      "[Obtaining zero at  4-th bit of 01101 with. prob. 0.8117554783816874]\n",
      "[Obtaining zero at  4-th bit of 01110 with. prob. 0.1885341170532465]\n",
      "[Obtaining zero at  4-th bit of 01111 with. prob. 0.18853489469883017]\n",
      "[Obtaining zero at  4-th bit of 10000 with. prob. 0.8125052465299876]\n",
      "[Obtaining zero at  4-th bit of 10001 with. prob. 0.8128754755055518]\n",
      "[Obtaining zero at  4-th bit of 10010 with. prob. 0.18886869165234954]\n",
      "[Obtaining zero at  4-th bit of 10011 with. prob. 0.18888871337235882]\n",
      "[Obtaining zero at  4-th bit of 10100 with. prob. 0.8123888227095954]\n",
      "[Obtaining zero at  4-th bit of 10101 with. prob. 0.8131078482238279]\n",
      "[Obtaining zero at  4-th bit of 10110 with. prob. 0.1887911219080653]\n",
      "[Obtaining zero at  4-th bit of 10111 with. prob. 0.18769525507425183]\n",
      "[Obtaining zero at  4-th bit of 11000 with. prob. 0.8124455805646276]\n",
      "[Obtaining zero at  4-th bit of 11001 with. prob. 0.8126673223078676]\n",
      "[Obtaining zero at  4-th bit of 11010 with. prob. 0.18881662955373618]\n",
      "[Obtaining zero at  4-th bit of 11011 with. prob. 0.18886129442443148]\n",
      "[Obtaining zero at  4-th bit of 11100 with. prob. 0.8118082953601243]\n",
      "[Obtaining zero at  4-th bit of 11101 with. prob. 0.8119570908161513]\n",
      "[Obtaining zero at  4-th bit of 11110 with. prob. 0.187064736676733]\n",
      "[Obtaining zero at  4-th bit of 11111 with. prob. 0.1877914022494919]\n",
      "[Obtaining zero at  5-th bit of 00000 with. prob. 0.8119660518312847]\n",
      "[Obtaining zero at  5-th bit of 00001 with. prob. 0.18858390713491105]\n",
      "[Obtaining zero at  5-th bit of 00010 with. prob. 0.8128530031130743]\n",
      "[Obtaining zero at  5-th bit of 00011 with. prob. 0.18833486344783504]\n",
      "[Obtaining zero at  5-th bit of 00100 with. prob. 0.811416088087528]\n",
      "[Obtaining zero at  5-th bit of 00101 with. prob. 0.18858390934273495]\n",
      "[Obtaining zero at  5-th bit of 00110 with. prob. 0.8115690648784852]\n",
      "[Obtaining zero at  5-th bit of 00111 with. prob. 0.18830840443492403]\n",
      "[Obtaining zero at  5-th bit of 01000 with. prob. 0.812376972004824]\n",
      "[Obtaining zero at  5-th bit of 01001 with. prob. 0.1877584163426564]\n",
      "[Obtaining zero at  5-th bit of 01010 with. prob. 0.8114160854198035]\n",
      "[Obtaining zero at  5-th bit of 01011 with. prob. 0.18810604895328698]\n",
      "[Obtaining zero at  5-th bit of 01100 with. prob. 0.8114160758876918]\n",
      "[Obtaining zero at  5-th bit of 01101 with. prob. 0.18856829417026003]\n",
      "[Obtaining zero at  5-th bit of 01110 with. prob. 0.8115037684767606]\n",
      "[Obtaining zero at  5-th bit of 01111 with. prob. 0.18847619850595698]\n",
      "[Obtaining zero at  5-th bit of 10000 with. prob. 0.8114161109423463]\n",
      "[Obtaining zero at  5-th bit of 10001 with. prob. 0.18842934927983837]\n",
      "[Obtaining zero at  5-th bit of 10010 with. prob. 0.8114160865944053]\n",
      "[Obtaining zero at  5-th bit of 10011 with. prob. 0.1885839137969869]\n",
      "[Obtaining zero at  5-th bit of 10100 with. prob. 0.8117356139720391]\n",
      "[Obtaining zero at  5-th bit of 10101 with. prob. 0.1877616909882797]\n",
      "[Obtaining zero at  5-th bit of 10110 with. prob. 0.8114160651856581]\n",
      "[Obtaining zero at  5-th bit of 10111 with. prob. 0.18746382679165777]\n",
      "[Obtaining zero at  5-th bit of 11000 with. prob. 0.8114161288799635]\n",
      "[Obtaining zero at  5-th bit of 11001 with. prob. 0.18858390123300015]\n",
      "[Obtaining zero at  5-th bit of 11010 with. prob. 0.8114403167360758]\n",
      "[Obtaining zero at  5-th bit of 11011 with. prob. 0.18858392129764448]\n",
      "[Obtaining zero at  5-th bit of 11100 with. prob. 0.8114825338725322]\n",
      "[Obtaining zero at  5-th bit of 11101 with. prob. 0.18858391629053986]\n",
      "[Obtaining zero at  5-th bit of 11110 with. prob. 0.812975102388665]\n",
      "[Obtaining zero at  5-th bit of 11111 with. prob. 0.1877330051822581]\n"
     ]
    }
   ],
   "source": [
    "# function to compute the success probability of observing zero\n",
    "def get_prob_observe_zero(encoding, decoding):\n",
    "    # the length of the vectors projected to the spaces spanned by the basis states of the decoding\n",
    "    prob = np.abs(np.dot( decoding[:,0].conj(), encoding ))**2 + np.abs(np.dot( decoding[:,1].conj(), encoding ))**2\n",
    "    return prob\n",
    "\n",
    "probabilities = []\n",
    "for i in range(len(decoding)):\n",
    "    for j in range(len(encoding)):\n",
    "        prob = get_prob_observe_zero(encoding[j], decoding[i])\n",
    "        print('[Obtaining zero at {0}-th bit of {1} with. prob. {2}]'.format(format(i+1,'2'), format(j,'05b'), prob))\n",
    "        probabilities.append(np.abs(prob - 1.0/2.0))\n"
   ]
  },
  {
   "cell_type": "markdown",
   "metadata": {},
   "source": [
    "## Computing the worst case of the success probability"
   ]
  },
  {
   "cell_type": "code",
   "execution_count": 5,
   "metadata": {},
   "outputs": [
    {
     "data": {
      "text/plain": [
       "0.8111112866276412"
      ]
     },
     "execution_count": 5,
     "metadata": {},
     "output_type": "execute_result"
    }
   ],
   "source": [
    "1/2 + np.min(probabilities)"
   ]
  },
  {
   "cell_type": "markdown",
   "metadata": {},
   "source": [
    "## Computing the maximum sucess probability"
   ]
  },
  {
   "cell_type": "code",
   "execution_count": 6,
   "metadata": {},
   "outputs": [
    {
     "data": {
      "text/plain": [
       "0.8134513042922473"
      ]
     },
     "execution_count": 6,
     "metadata": {},
     "output_type": "execute_result"
    }
   ],
   "source": [
    "1/2 + np.max(probabilities)"
   ]
  },
  {
   "cell_type": "markdown",
   "metadata": {},
   "source": [
    "## Computing the average success probability"
   ]
  },
  {
   "cell_type": "code",
   "execution_count": 7,
   "metadata": {},
   "outputs": [
    {
     "data": {
      "text/plain": [
       "0.8118204937911697"
      ]
     },
     "execution_count": 7,
     "metadata": {},
     "output_type": "execute_result"
    }
   ],
   "source": [
    "1/2 + np.mean(probabilities)"
   ]
  },
  {
   "cell_type": "code",
   "execution_count": null,
   "metadata": {
    "collapsed": true
   },
   "outputs": [],
   "source": []
  }
 ],
 "metadata": {
  "kernelspec": {
   "display_name": "QISKitenv",
   "language": "python",
   "name": "qiskitenv"
  },
  "language_info": {
   "codemirror_mode": {
    "name": "ipython",
    "version": 3
   },
   "file_extension": ".py",
   "mimetype": "text/x-python",
   "name": "python",
   "nbconvert_exporter": "python",
   "pygments_lexer": "ipython3",
   "version": "3.6.2"
  }
 },
 "nbformat": 4,
 "nbformat_minor": 2
}
