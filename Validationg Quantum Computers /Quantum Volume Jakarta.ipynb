{
 "cells": [
  {
   "cell_type": "code",
   "execution_count": 2,
   "id": "d8a99e80-454d-499d-8a49-b1d0a583be32",
   "metadata": {
    "tags": []
   },
   "outputs": [],
   "source": [
    "# Importing standard Qiskit libraries\n",
    "from qiskit import QuantumCircuit, transpile\n",
    "#from qiskit.tools.jupyter import *\n",
    "from qiskit.visualization import *\n",
    "#from ibm_quantum_widgets import *\n",
    "\n",
    "# qiskit-ibmq-provider has been deprecated.\n",
    "# Please see the Migration Guides in https://ibm.biz/provider_migration_guide for more detail.\n",
    "from qiskit_ibm_runtime import QiskitRuntimeService, Sampler, Estimator, Session, Options\n",
    "\n",
    "# Loading your IBM Quantum account(s)\n",
    "service = QiskitRuntimeService(channel=\"ibm_quantum\")\n",
    "\n",
    "# Invoke a primitive. For more details see https://qiskit.org/documentation/partners/qiskit_ibm_runtime/tutorials.html\n",
    "# result = Sampler(\"ibmq_qasm_simulator\").run(circuits).result()"
   ]
  },
  {
   "cell_type": "code",
   "execution_count": 3,
   "id": "ad6b9914-7831-4732-845d-25f0b90b62b7",
   "metadata": {
    "tags": []
   },
   "outputs": [
    {
     "name": "stderr",
     "output_type": "stream",
     "text": [
      "C:\\Users\\monitsharma\\AppData\\Local\\Temp\\ipykernel_34948\\999524057.py:4: DeprecationWarning: The package qiskit.providers.ibmq is being deprecated. Please see https://ibm.biz/provider_migration_guide to get instructions on how to migrate to qiskit-ibm-provider (https://github.com/Qiskit/qiskit-ibm-provider) and qiskit-ibm-runtime (https://github.com/Qiskit/qiskit-ibm-runtime).\n",
      "  IBMQ.load_account()\n",
      "C:\\Users\\monitsharma\\AppData\\Local\\Temp\\ipykernel_34948\\999524057.py:4: DeprecationWarning: The qiskit.IBMQ entrypoint and the qiskit-ibmq-provider package (accessible from 'qiskit.providers.ibmq`) are deprecated and will be removed in a future release. Instead you should use the qiskit-ibm-provider package which is accessible from 'qiskit_ibm_provider'. You can install it with 'pip install qiskit_ibm_provider'. Just replace 'qiskit.IBMQ' with 'qiskit_ibm_provider.IBMProvider'\n",
      "  IBMQ.load_account()\n"
     ]
    }
   ],
   "source": [
    "from qiskit import IBMQ\n",
    "\n",
    "# load IBMQ account\n",
    "IBMQ.load_account()\n",
    "\n",
    "from qiskit_ibm_provider import IBMProvider\n",
    "\n",
    "provider = IBMQ.get_provider(hub=\"ibm-q\", group=\"open\", project=\"main\")\n",
    "\n",
    "# choose backend\n",
    "backend = provider.get_backend('ibmq_jakarta')"
   ]
  },
  {
   "cell_type": "code",
   "execution_count": 5,
   "id": "39cf0ca3",
   "metadata": {},
   "outputs": [
    {
     "name": "stdout",
     "output_type": "stream",
     "text": [
      "Collecting qiskit_experiments\n",
      "  Downloading qiskit_experiments-0.5.2-py3-none-any.whl (806 kB)\n",
      "     ------------------------------------- 806.6/806.6 kB 12.8 MB/s eta 0:00:00\n",
      "Requirement already satisfied: numpy>=1.17 in c:\\users\\monitsharma\\appdata\\local\\packages\\pythonsoftwarefoundation.python.3.11_qbz5n2kfra8p0\\localcache\\local-packages\\python311\\site-packages (from qiskit_experiments) (1.23.5)\n",
      "Requirement already satisfied: scipy>=1.4 in c:\\users\\monitsharma\\appdata\\local\\packages\\pythonsoftwarefoundation.python.3.11_qbz5n2kfra8p0\\localcache\\local-packages\\python311\\site-packages (from qiskit_experiments) (1.10.1)\n",
      "Requirement already satisfied: qiskit-terra>=0.22 in c:\\users\\monitsharma\\appdata\\local\\packages\\pythonsoftwarefoundation.python.3.11_qbz5n2kfra8p0\\localcache\\local-packages\\python311\\site-packages (from qiskit_experiments) (0.24.0)\n",
      "Collecting qiskit-ibm-experiment>=0.2.5\n",
      "  Downloading qiskit_ibm_experiment-0.3.3-py3-none-any.whl (56 kB)\n",
      "     ---------------------------------------- 56.8/56.8 kB 3.1 MB/s eta 0:00:00\n",
      "Collecting qiskit-dynamics>=0.3.0\n",
      "  Downloading qiskit_dynamics-0.4.1-py3-none-any.whl (187 kB)\n",
      "     ------------------------------------- 187.0/187.0 kB 11.0 MB/s eta 0:00:00\n",
      "Requirement already satisfied: matplotlib>=3.4 in c:\\users\\monitsharma\\appdata\\local\\packages\\pythonsoftwarefoundation.python.3.11_qbz5n2kfra8p0\\localcache\\local-packages\\python311\\site-packages (from qiskit_experiments) (3.7.1)\n",
      "Collecting uncertainties\n",
      "  Downloading uncertainties-3.1.7-py2.py3-none-any.whl (98 kB)\n",
      "     ---------------------------------------- 98.4/98.4 kB 5.9 MB/s eta 0:00:00\n",
      "Collecting lmfit\n",
      "  Downloading lmfit-1.2.1-py3-none-any.whl (101 kB)\n",
      "     -------------------------------------- 101.1/101.1 kB 5.7 MB/s eta 0:00:00\n",
      "Requirement already satisfied: rustworkx in c:\\users\\monitsharma\\appdata\\local\\packages\\pythonsoftwarefoundation.python.3.11_qbz5n2kfra8p0\\localcache\\local-packages\\python311\\site-packages (from qiskit_experiments) (0.12.1)\n",
      "Requirement already satisfied: contourpy>=1.0.1 in c:\\users\\monitsharma\\appdata\\local\\packages\\pythonsoftwarefoundation.python.3.11_qbz5n2kfra8p0\\localcache\\local-packages\\python311\\site-packages (from matplotlib>=3.4->qiskit_experiments) (1.0.7)\n",
      "Requirement already satisfied: cycler>=0.10 in c:\\users\\monitsharma\\appdata\\local\\packages\\pythonsoftwarefoundation.python.3.11_qbz5n2kfra8p0\\localcache\\local-packages\\python311\\site-packages (from matplotlib>=3.4->qiskit_experiments) (0.11.0)\n",
      "Requirement already satisfied: fonttools>=4.22.0 in c:\\users\\monitsharma\\appdata\\local\\packages\\pythonsoftwarefoundation.python.3.11_qbz5n2kfra8p0\\localcache\\local-packages\\python311\\site-packages (from matplotlib>=3.4->qiskit_experiments) (4.39.4)\n",
      "Requirement already satisfied: kiwisolver>=1.0.1 in c:\\users\\monitsharma\\appdata\\local\\packages\\pythonsoftwarefoundation.python.3.11_qbz5n2kfra8p0\\localcache\\local-packages\\python311\\site-packages (from matplotlib>=3.4->qiskit_experiments) (1.4.4)\n",
      "Requirement already satisfied: packaging>=20.0 in c:\\users\\monitsharma\\appdata\\local\\packages\\pythonsoftwarefoundation.python.3.11_qbz5n2kfra8p0\\localcache\\local-packages\\python311\\site-packages (from matplotlib>=3.4->qiskit_experiments) (23.1)\n",
      "Requirement already satisfied: pillow>=6.2.0 in c:\\users\\monitsharma\\appdata\\local\\packages\\pythonsoftwarefoundation.python.3.11_qbz5n2kfra8p0\\localcache\\local-packages\\python311\\site-packages (from matplotlib>=3.4->qiskit_experiments) (9.5.0)\n",
      "Requirement already satisfied: pyparsing>=2.3.1 in c:\\users\\monitsharma\\appdata\\local\\packages\\pythonsoftwarefoundation.python.3.11_qbz5n2kfra8p0\\localcache\\local-packages\\python311\\site-packages (from matplotlib>=3.4->qiskit_experiments) (3.0.9)\n",
      "Requirement already satisfied: python-dateutil>=2.7 in c:\\users\\monitsharma\\appdata\\local\\packages\\pythonsoftwarefoundation.python.3.11_qbz5n2kfra8p0\\localcache\\local-packages\\python311\\site-packages (from matplotlib>=3.4->qiskit_experiments) (2.8.2)\n",
      "Collecting multiset>=3.0.1\n",
      "  Downloading multiset-3.0.1-py2.py3-none-any.whl (9.6 kB)\n",
      "Requirement already satisfied: requests>=2.19 in c:\\users\\monitsharma\\appdata\\local\\packages\\pythonsoftwarefoundation.python.3.11_qbz5n2kfra8p0\\localcache\\local-packages\\python311\\site-packages (from qiskit-ibm-experiment>=0.2.5->qiskit_experiments) (2.30.0)\n",
      "Requirement already satisfied: requests-ntlm>=1.1.0 in c:\\users\\monitsharma\\appdata\\local\\packages\\pythonsoftwarefoundation.python.3.11_qbz5n2kfra8p0\\localcache\\local-packages\\python311\\site-packages (from qiskit-ibm-experiment>=0.2.5->qiskit_experiments) (1.1.0)\n",
      "Requirement already satisfied: urllib3>=1.21.1 in c:\\users\\monitsharma\\appdata\\local\\packages\\pythonsoftwarefoundation.python.3.11_qbz5n2kfra8p0\\localcache\\local-packages\\python311\\site-packages (from qiskit-ibm-experiment>=0.2.5->qiskit_experiments) (1.26.16)\n",
      "Requirement already satisfied: typing-extensions>=4.0.0 in c:\\users\\monitsharma\\appdata\\local\\packages\\pythonsoftwarefoundation.python.3.11_qbz5n2kfra8p0\\localcache\\local-packages\\python311\\site-packages (from qiskit-ibm-experiment>=0.2.5->qiskit_experiments) (4.5.0)\n",
      "Requirement already satisfied: pandas>=1.3.0 in c:\\users\\monitsharma\\appdata\\local\\packages\\pythonsoftwarefoundation.python.3.11_qbz5n2kfra8p0\\localcache\\local-packages\\python311\\site-packages (from qiskit-ibm-experiment>=0.2.5->qiskit_experiments) (2.0.1)\n",
      "Requirement already satisfied: ply>=3.10 in c:\\users\\monitsharma\\appdata\\local\\packages\\pythonsoftwarefoundation.python.3.11_qbz5n2kfra8p0\\localcache\\local-packages\\python311\\site-packages (from qiskit-terra>=0.22->qiskit_experiments) (3.11)\n",
      "Requirement already satisfied: psutil>=5 in c:\\users\\monitsharma\\appdata\\local\\packages\\pythonsoftwarefoundation.python.3.11_qbz5n2kfra8p0\\localcache\\local-packages\\python311\\site-packages (from qiskit-terra>=0.22->qiskit_experiments) (5.9.5)\n",
      "Requirement already satisfied: sympy>=1.3 in c:\\users\\monitsharma\\appdata\\local\\packages\\pythonsoftwarefoundation.python.3.11_qbz5n2kfra8p0\\localcache\\local-packages\\python311\\site-packages (from qiskit-terra>=0.22->qiskit_experiments) (1.12)\n",
      "Requirement already satisfied: dill>=0.3 in c:\\users\\monitsharma\\appdata\\local\\packages\\pythonsoftwarefoundation.python.3.11_qbz5n2kfra8p0\\localcache\\local-packages\\python311\\site-packages (from qiskit-terra>=0.22->qiskit_experiments) (0.3.6)\n",
      "Requirement already satisfied: stevedore>=3.0.0 in c:\\users\\monitsharma\\appdata\\local\\packages\\pythonsoftwarefoundation.python.3.11_qbz5n2kfra8p0\\localcache\\local-packages\\python311\\site-packages (from qiskit-terra>=0.22->qiskit_experiments) (5.1.0)\n",
      "Collecting asteval>=0.9.28\n",
      "  Downloading asteval-0.9.29-py3-none-any.whl (18 kB)\n",
      "Requirement already satisfied: future in c:\\users\\monitsharma\\appdata\\local\\packages\\pythonsoftwarefoundation.python.3.11_qbz5n2kfra8p0\\localcache\\local-packages\\python311\\site-packages (from uncertainties->qiskit_experiments) (0.18.3)\n",
      "Requirement already satisfied: pytz>=2020.1 in c:\\users\\monitsharma\\appdata\\local\\packages\\pythonsoftwarefoundation.python.3.11_qbz5n2kfra8p0\\localcache\\local-packages\\python311\\site-packages (from pandas>=1.3.0->qiskit-ibm-experiment>=0.2.5->qiskit_experiments) (2023.3)\n",
      "Requirement already satisfied: tzdata>=2022.1 in c:\\users\\monitsharma\\appdata\\local\\packages\\pythonsoftwarefoundation.python.3.11_qbz5n2kfra8p0\\localcache\\local-packages\\python311\\site-packages (from pandas>=1.3.0->qiskit-ibm-experiment>=0.2.5->qiskit_experiments) (2023.3)\n",
      "Requirement already satisfied: six>=1.5 in c:\\users\\monitsharma\\appdata\\local\\packages\\pythonsoftwarefoundation.python.3.11_qbz5n2kfra8p0\\localcache\\local-packages\\python311\\site-packages (from python-dateutil>=2.7->matplotlib>=3.4->qiskit_experiments) (1.16.0)\n",
      "Requirement already satisfied: charset-normalizer<4,>=2 in c:\\users\\monitsharma\\appdata\\local\\packages\\pythonsoftwarefoundation.python.3.11_qbz5n2kfra8p0\\localcache\\local-packages\\python311\\site-packages (from requests>=2.19->qiskit-ibm-experiment>=0.2.5->qiskit_experiments) (3.1.0)\n",
      "Requirement already satisfied: idna<4,>=2.5 in c:\\users\\monitsharma\\appdata\\local\\packages\\pythonsoftwarefoundation.python.3.11_qbz5n2kfra8p0\\localcache\\local-packages\\python311\\site-packages (from requests>=2.19->qiskit-ibm-experiment>=0.2.5->qiskit_experiments) (3.4)\n",
      "Requirement already satisfied: certifi>=2017.4.17 in c:\\users\\monitsharma\\appdata\\local\\packages\\pythonsoftwarefoundation.python.3.11_qbz5n2kfra8p0\\localcache\\local-packages\\python311\\site-packages (from requests>=2.19->qiskit-ibm-experiment>=0.2.5->qiskit_experiments) (2023.5.7)\n",
      "Requirement already satisfied: ntlm-auth>=1.0.2 in c:\\users\\monitsharma\\appdata\\local\\packages\\pythonsoftwarefoundation.python.3.11_qbz5n2kfra8p0\\localcache\\local-packages\\python311\\site-packages (from requests-ntlm>=1.1.0->qiskit-ibm-experiment>=0.2.5->qiskit_experiments) (1.5.0)\n",
      "Requirement already satisfied: cryptography>=1.3 in c:\\users\\monitsharma\\appdata\\local\\packages\\pythonsoftwarefoundation.python.3.11_qbz5n2kfra8p0\\localcache\\local-packages\\python311\\site-packages (from requests-ntlm>=1.1.0->qiskit-ibm-experiment>=0.2.5->qiskit_experiments) (40.0.2)\n",
      "Requirement already satisfied: pbr!=2.1.0,>=2.0.0 in c:\\users\\monitsharma\\appdata\\local\\packages\\pythonsoftwarefoundation.python.3.11_qbz5n2kfra8p0\\localcache\\local-packages\\python311\\site-packages (from stevedore>=3.0.0->qiskit-terra>=0.22->qiskit_experiments) (5.11.1)\n",
      "Requirement already satisfied: mpmath>=0.19 in c:\\users\\monitsharma\\appdata\\local\\packages\\pythonsoftwarefoundation.python.3.11_qbz5n2kfra8p0\\localcache\\local-packages\\python311\\site-packages (from sympy>=1.3->qiskit-terra>=0.22->qiskit_experiments) (1.3.0)\n",
      "Requirement already satisfied: cffi>=1.12 in c:\\users\\monitsharma\\appdata\\local\\packages\\pythonsoftwarefoundation.python.3.11_qbz5n2kfra8p0\\localcache\\local-packages\\python311\\site-packages (from cryptography>=1.3->requests-ntlm>=1.1.0->qiskit-ibm-experiment>=0.2.5->qiskit_experiments) (1.15.1)\n",
      "Requirement already satisfied: pycparser in c:\\users\\monitsharma\\appdata\\local\\packages\\pythonsoftwarefoundation.python.3.11_qbz5n2kfra8p0\\localcache\\local-packages\\python311\\site-packages (from cffi>=1.12->cryptography>=1.3->requests-ntlm>=1.1.0->qiskit-ibm-experiment>=0.2.5->qiskit_experiments) (2.21)\n",
      "Installing collected packages: uncertainties, multiset, asteval, lmfit, qiskit-dynamics, qiskit-ibm-experiment, qiskit_experiments\n",
      "Successfully installed asteval-0.9.29 lmfit-1.2.1 multiset-3.0.1 qiskit-dynamics-0.4.1 qiskit-ibm-experiment-0.3.3 qiskit_experiments-0.5.2 uncertainties-3.1.7\n",
      "Note: you may need to restart the kernel to use updated packages.\n"
     ]
    },
    {
     "name": "stderr",
     "output_type": "stream",
     "text": [
      "\n",
      "[notice] A new release of pip available: 22.3.1 -> 23.1.2\n",
      "[notice] To update, run: C:\\Users\\monitsharma\\AppData\\Local\\Microsoft\\WindowsApps\\PythonSoftwareFoundation.Python.3.11_qbz5n2kfra8p0\\python.exe -m pip install --upgrade pip\n"
     ]
    }
   ],
   "source": [
    "%pip install qiskit_experiments"
   ]
  },
  {
   "cell_type": "code",
   "execution_count": 6,
   "id": "77e54e52-d03e-4ec2-ac3a-77e9400ca088",
   "metadata": {
    "tags": []
   },
   "outputs": [],
   "source": [
    "\n",
    "\n",
    "from qiskit_experiments.library import QuantumVolume\n",
    "\n",
    "# select physical qubits\n",
    "qubits = range(4)\n",
    "\n",
    "# define QV experiment\n",
    "qv_exp = QuantumVolume(qubits, trials=100)\n",
    "\n"
   ]
  },
  {
   "cell_type": "code",
   "execution_count": 7,
   "id": "bc2c1b15-33e5-42cf-8694-d6668262092c",
   "metadata": {
    "tags": []
   },
   "outputs": [],
   "source": [
    "\n",
    "\n",
    "# run the experiment on the device\n",
    "expdata = qv_exp.run(backend).block_for_results()\n",
    "\n"
   ]
  },
  {
   "cell_type": "code",
   "execution_count": 8,
   "id": "8e15bf2c-ad32-471b-aa29-0bce8ab8254b",
   "metadata": {
    "tags": []
   },
   "outputs": [
    {
     "data": {
      "image/png": "[encoded data removed]",
      "text/plain": [
       "<qiskit_experiments.framework.experiment_data.FigureData at 0x204a8bcd490>"
      ]
     },
     "metadata": {},
     "output_type": "display_data"
    }
   ],
   "source": [
    "%matplotlib inline\n",
    "display(expdata.figure(0))"
   ]
  },
  {
   "cell_type": "code",
   "execution_count": 9,
   "id": "41021dee-78fc-48e0-b7c5-60f15ec096bf",
   "metadata": {
    "tags": []
   },
   "outputs": [
    {
     "name": "stdout",
     "output_type": "stream",
     "text": [
      "AnalysisResult\n",
      "- name: mean_HOP\n",
      "- value: 0.56+/-0.05\n",
      "- quality: bad\n",
      "- extra: <4 items>\n",
      "- device_components: ['Q0', 'Q1', 'Q2', 'Q3']\n",
      "- verified: False\n",
      "AnalysisResult\n",
      "- name: quantum_volume\n",
      "- value: 1\n",
      "- quality: bad\n",
      "- extra: <4 items>\n",
      "- device_components: ['Q0', 'Q1', 'Q2', 'Q3']\n",
      "- verified: False\n"
     ]
    }
   ],
   "source": [
    "for result in expdata.analysis_results():\n",
    "    print(result)"
   ]
  },
  {
   "cell_type": "code",
   "execution_count": 10,
   "id": "281cdfa0-71d0-4327-b938-9cab594d6e97",
   "metadata": {
    "tags": []
   },
   "outputs": [
    {
     "name": "stdout",
     "output_type": "stream",
     "text": [
      "\n",
      "mean_HOP extra:\n",
      "- HOPs: [0.60675, 0.6395, 0.5595, 0.525, 0.5305, 0.53425, 0.56325, 0.48675, 0.60225, 0.5045, 0.5475, 0.52625, 0.549, 0.5155, 0.4725, 0.52375, 0.614, 0.60775, 0.5135, 0.559, 0.56375, 0.5185, 0.4835, 0.556, 0.571, 0.56025, 0.46025, 0.514, 0.594, 0.64425, 0.633, 0.45175, 0.5505, 0.6125, 0.5995, 0.566, 0.5755, 0.58225, 0.5365, 0.53425, 0.62, 0.55275, 0.542, 0.483, 0.57875, 0.5045, 0.56925, 0.59675, 0.453, 0.62675, 0.583, 0.558, 0.50575, 0.53325, 0.566, 0.5555, 0.60675, 0.6325, 0.568, 0.50625, 0.54575, 0.603, 0.49, 0.529, 0.5525, 0.63025, 0.5385, 0.58375, 0.53975, 0.58575, 0.55375, 0.59025, 0.47825, 0.65175, 0.585, 0.451, 0.5725, 0.57775, 0.58675, 0.50675, 0.57, 0.52375, 0.62825, 0.53575, 0.50925, 0.602, 0.512, 0.55925, 0.49775, 0.57075, 0.5645, 0.63875, 0.61475, 0.542, 0.53775, 0.622, 0.57875, 0.57575, 0.58375, 0.5405]\n",
      "- two_sigma: 0.09935053969531318\n",
      "- depth: 4\n",
      "- trials: 100\n",
      "\n",
      "quantum_volume extra:\n",
      "- success: False\n",
      "- confidence: 0.01355829615926718\n",
      "- depth: 4\n",
      "- trials: 100\n"
     ]
    }
   ],
   "source": [
    "for result in expdata.analysis_results():\n",
    "    print(f\"\\n{result.name} extra:\")\n",
    "    for key, val in result.extra.items():\n",
    "        print(f\"- {key}: {val}\")"
   ]
  },
  {
   "cell_type": "code",
   "execution_count": 11,
   "id": "ffaf6a94-f357-415d-9020-d6377951dedb",
   "metadata": {
    "tags": []
   },
   "outputs": [
    {
     "data": {
      "text/plain": [
       "ExperimentData(QuantumVolume, 31e8c870-7981-4b13-af2f-f56ca6565e78, job_ids=['ci6j34tejm3lf1fdtkm0', 'ci6j35tejm3lf1fdtll0', 'circuit-runner_ci6j77giq5ve9j93ib5g_e017_0', 'circuit-runner_ci6j6jn6abdukp2f33dg_0a7a_0'], metadata=<2 items>, figure_names=['QuantumVolume_Fig-0_Exp-31e8c870.svg'])"
      ]
     },
     "execution_count": 11,
     "metadata": {},
     "output_type": "execute_result"
    }
   ],
   "source": [
    "# change number of trials\n",
    "qv_exp.set_experiment_options(trials = 200)\n",
    "\n",
    "# run experiment again\n",
    "expdata2 = qv_exp.run(backend, analysis = None).block_for_results()\n",
    "\n",
    "# combine data of the two experiments\n",
    "expdata2.add_data(expdata.data())\n",
    "\n",
    "# analyze the new joint data\n",
    "qv_exp.analysis.run(expdata2).block_for_results()"
   ]
  },
  {
   "cell_type": "code",
   "execution_count": 12,
   "id": "87aa262d-d57a-4fbc-9105-5ba380330d38",
   "metadata": {
    "tags": []
   },
   "outputs": [
    {
     "data": {
      "image/png": "[encoded data removed]",
      "text/plain": [
       "<qiskit_experiments.framework.experiment_data.FigureData at 0x204a9c3de50>"
      ]
     },
     "metadata": {},
     "output_type": "display_data"
    },
    {
     "name": "stdout",
     "output_type": "stream",
     "text": [
      "AnalysisResult\n",
      "- name: mean_HOP\n",
      "- value: 0.557+/-0.029\n",
      "- quality: bad\n",
      "- extra: <4 items>\n",
      "- device_components: ['Q0', 'Q1', 'Q2', 'Q3']\n",
      "- verified: False\n",
      "AnalysisResult\n",
      "- name: quantum_volume\n",
      "- value: 1\n",
      "- quality: bad\n",
      "- extra: <4 items>\n",
      "- device_components: ['Q0', 'Q1', 'Q2', 'Q3']\n",
      "- verified: False\n"
     ]
    }
   ],
   "source": [
    "\n",
    "\n",
    "display(expdata2.figure(0))\n",
    "for result in expdata2.analysis_results():\n",
    "    print(result)\n",
    "\n"
   ]
  },
  {
   "cell_type": "code",
   "execution_count": 13,
   "id": "fbf09e09-c884-4c5a-b5fb-5498011d3707",
   "metadata": {
    "tags": []
   },
   "outputs": [],
   "source": [
    "from qiskit_experiments.framework import BatchExperiment\n",
    "\n",
    "exps = [QuantumVolume(range(i), trials = 300) for i in range(2,5)]\n",
    "\n",
    "batch_exp = BatchExperiment(exps)\n",
    "\n",
    "batch_expdata = batch_exp.run(backend).block_for_results()"
   ]
  },
  {
   "cell_type": "code",
   "execution_count": null,
   "id": "debb07ba-a78e-4bb7-a69b-a4ed26fd7c9e",
   "metadata": {
    "tags": []
   },
   "outputs": [],
   "source": [
    "\n",
    "\n",
    "for i in range(batch_exp.num_experiments):\n",
    "    print(f\"\\nComponent experiment {i}\")\n",
    "    sub_data = batch_expdata.child_data(i)\n",
    "    display(sub_data.figure(0))\n",
    "    for result in sub_data.analysis_results():\n",
    "        print(result)\n",
    "\n"
   ]
  },
  {
   "cell_type": "code",
   "execution_count": null,
   "id": "8c73926e-026c-4c1b-94e8-74f6b43aad9b",
   "metadata": {
    "tags": []
   },
   "outputs": [],
   "source": [
    "qv_values = [batch_expdata.child_data(i).analysis_results(\"quantum_volume\").value for i in range(batch_exp.num_experiments)]\n",
    "\n",
    "print(f\"Max quantum volume is: {max(qv_values)}\")"
   ]
  },
  {
   "cell_type": "code",
   "execution_count": null,
   "id": "19def4ff-7446-4a49-a029-4c9050e88743",
   "metadata": {},
   "outputs": [],
   "source": []
  }
 ],
 "metadata": {
  "kernelspec": {
   "display_name": "Python 3 (ipykernel)",
   "language": "python",
   "name": "python3"
  },
  "language_info": {
   "codemirror_mode": {
    "name": "ipython",
    "version": 3
   },
   "file_extension": ".py",
   "mimetype": "text/x-python",
   "name": "python",
   "nbconvert_exporter": "python",
   "pygments_lexer": "ipython3",
   "version": "3.11.3"
  },
  "widgets": {
   "application/vnd.jupyter.widget-state+json": {
    "state": {
     "091ca13d070a4141bf6424796df5e326": {
      "model_module": "@jupyter-widgets/base",
      "model_module_version": "2.0.0",
      "model_name": "LayoutModel",
      "state": {
       "width": "190px"
      }
     },
     "0a7b7115e3ac40648007aef653424f47": {
      "model_module": "@jupyter-widgets/base",
      "model_module_version": "2.0.0",
      "model_name": "LayoutModel",
      "state": {
       "margin": "0px 0px 10px 0px"
      }
     },
     "1113ff5983bc4ab88bf6fdf850a5380f": {
      "model_module": "@jupyter-widgets/controls",
      "model_module_version": "2.0.0",
      "model_name": "HTMLModel",
      "state": {
       "layout": "IPY_MODEL_c92b5f5d2561490a97beaa4ee00eb1e4",
       "style": "IPY_MODEL_b98fba5726b846aaa667ea1fb2089c8d",
       "value": "QUEUED"
      }
     },
     "12a4daaa93234c229ecdd998a2033af7": {
      "model_module": "@jupyter-widgets/base",
      "model_module_version": "2.0.0",
      "model_name": "LayoutModel",
      "state": {
       "margin": "0px 5px 0px 0px",
       "width": "32px"
      }
     },
     "12bcca51560c4626b904224de23fb22d": {
      "model_module": "@jupyter-widgets/controls",
      "model_module_version": "2.0.0",
      "model_name": "HTMLModel",
      "state": {
       "layout": "IPY_MODEL_e25076047ef44bed80de2b664cf609e8",
       "style": "IPY_MODEL_2a53477c555247b3b35bb19faac3190e",
       "value": "ibmq_jakarta"
      }
     },
     "15c87d02794c41c097af1025fdca2d85": {
      "model_module": "@jupyter-widgets/controls",
      "model_module_version": "2.0.0",
      "model_name": "HTMLStyleModel",
      "state": {
       "description_width": "",
       "font_size": null,
       "text_color": null
      }
     },
     "21a71d700e6b4d059abc3520e7110225": {
      "model_module": "@jupyter-widgets/base",
      "model_module_version": "2.0.0",
      "model_name": "LayoutModel",
      "state": {
       "width": "70px"
      }
     },
     "2361839fd94340e091f15535c796ffe4": {
      "model_module": "@jupyter-widgets/controls",
      "model_module_version": "2.0.0",
      "model_name": "HTMLStyleModel",
      "state": {
       "description_width": "",
       "font_size": null,
       "text_color": null
      }
     },
     "25c67f93272e4ca996a464b25973119f": {
      "model_module": "@jupyter-widgets/controls",
      "model_module_version": "2.0.0",
      "model_name": "GridBoxModel",
      "state": {
       "children": [
        "IPY_MODEL_7eb2c8ae5478488c9c436567b32d2064"
       ],
       "layout": "IPY_MODEL_fb9c881724094521a6b955ddb0bf980c"
      }
     },
     "2a53477c555247b3b35bb19faac3190e": {
      "model_module": "@jupyter-widgets/controls",
      "model_module_version": "2.0.0",
      "model_name": "HTMLStyleModel",
      "state": {
       "description_width": "",
       "font_size": null,
       "text_color": null
      }
     },
     "2bdb20537a6b4ec984f9fdbc1ae7c66f": {
      "model_module": "@jupyter-widgets/controls",
      "model_module_version": "2.0.0",
      "model_name": "HBoxModel",
      "state": {
       "children": [
        "IPY_MODEL_ee755fefa39744b9a8bd0fd64132048a",
        "IPY_MODEL_36ca44628d724b19a094cd40f36dd442",
        "IPY_MODEL_12bcca51560c4626b904224de23fb22d",
        "IPY_MODEL_1113ff5983bc4ab88bf6fdf850a5380f",
        "IPY_MODEL_30ad874a77d14ab0803bad2cd2693c31",
        "IPY_MODEL_bdf1683579e2490f93365adaddf48f27"
       ],
       "layout": "IPY_MODEL_472f46da1e62498f97f0977ab5376af5"
      }
     },
     "30ad874a77d14ab0803bad2cd2693c31": {
      "model_module": "@jupyter-widgets/controls",
      "model_module_version": "2.0.0",
      "model_name": "HTMLModel",
      "state": {
       "layout": "IPY_MODEL_ad993938f477465cb948a42f7bae5b5a",
       "style": "IPY_MODEL_2361839fd94340e091f15535c796ffe4",
       "value": "-"
      }
     },
     "36ca44628d724b19a094cd40f36dd442": {
      "model_module": "@jupyter-widgets/controls",
      "model_module_version": "2.0.0",
      "model_name": "HTMLModel",
      "state": {
       "layout": "IPY_MODEL_091ca13d070a4141bf6424796df5e326",
       "style": "IPY_MODEL_ba1ac191ed084f53bc7f5bfa4094c251",
       "value": "ci60ku68t9vighruja5g"
      }
     },
     "3f328961f06d4912b5afdc30db81a35c": {
      "model_module": "@jupyter-widgets/controls",
      "model_module_version": "2.0.0",
      "model_name": "ButtonStyleModel",
      "state": {
       "button_color": "white",
       "font_family": null,
       "font_size": null,
       "font_style": null,
       "font_variant": null,
       "font_weight": null,
       "text_color": null,
       "text_decoration": null
      }
     },
     "472f46da1e62498f97f0977ab5376af5": {
      "model_module": "@jupyter-widgets/base",
      "model_module_version": "2.0.0",
      "model_name": "LayoutModel",
      "state": {
       "max_width": "700px",
       "min_width": "700px"
      }
     },
     "486ce4f648584e78983e487996ba0787": {
      "model_module": "@jupyter-widgets/controls",
      "model_module_version": "2.0.0",
      "model_name": "HTMLStyleModel",
      "state": {
       "description_width": "",
       "font_size": null,
       "text_color": null
      }
     },
     "4a8e82e1275a4b0a94cb351deec5af5f": {
      "model_module": "@jupyter-widgets/base",
      "model_module_version": "2.0.0",
      "model_name": "LayoutModel",
      "state": {}
     },
     "5b10d8ebbf954864899124c64c681c08": {
      "model_module": "@jupyter-widgets/controls",
      "model_module_version": "2.0.0",
      "model_name": "HTMLStyleModel",
      "state": {
       "description_width": "",
       "font_size": null,
       "text_color": null
      }
     },
     "5d29c794f12b4f328d7a904ca01e8752": {
      "model_module": "@jupyter-widgets/base",
      "model_module_version": "2.0.0",
      "model_name": "LayoutModel",
      "state": {
       "grid_area": "right",
       "padding": "0px 0px 0px 0px",
       "width": "70px"
      }
     },
     "710f1c93b1ce407c8a19194b74ad80c7": {
      "model_module": "@jupyter-widgets/base",
      "model_module_version": "2.0.0",
      "model_name": "LayoutModel",
      "state": {}
     },
     "793c63f37f2b4a9db647d2dfe98fc89f": {
      "model_module": "@jupyter-widgets/controls",
      "model_module_version": "2.0.0",
      "model_name": "HTMLStyleModel",
      "state": {
       "description_width": "",
       "font_size": null,
       "text_color": null
      }
     },
     "7c7afbc1fd4c4a21a787a77ecd9e8a83": {
      "model_module": "@jupyter-widgets/controls",
      "model_module_version": "2.0.0",
      "model_name": "HBoxModel",
      "state": {
       "children": [
        "IPY_MODEL_d3498a9648da4aca83711e9c2f12579d",
        "IPY_MODEL_e37563bf0dc8403584f4de7ded4d0199",
        "IPY_MODEL_ad4d78f7907a4e7db990e28f42528129",
        "IPY_MODEL_94aa341f08ad4232884a53031b5591a9",
        "IPY_MODEL_fd37353e38404eafa29b033fd4e72fa8"
       ],
       "layout": "IPY_MODEL_ee04fbbe8a1e44ffa091b0237ce949c3"
      }
     },
     "7eb2c8ae5478488c9c436567b32d2064": {
      "model_module": "@jupyter-widgets/controls",
      "model_module_version": "2.0.0",
      "model_name": "ButtonModel",
      "state": {
       "button_style": "primary",
       "description": "Clear",
       "layout": "IPY_MODEL_5d29c794f12b4f328d7a904ca01e8752",
       "style": "IPY_MODEL_bdf5a6d2a98541bd9eb0ba0b638dd844",
       "tooltip": null
      }
     },
     "804a28a5200d40389d93cfdb03ff21c2": {
      "model_module": "@jupyter-widgets/controls",
      "model_module_version": "2.0.0",
      "model_name": "HTMLStyleModel",
      "state": {
       "description_width": "",
       "font_size": null,
       "text_color": null
      }
     },
     "94aa341f08ad4232884a53031b5591a9": {
      "model_module": "@jupyter-widgets/controls",
      "model_module_version": "2.0.0",
      "model_name": "HTMLModel",
      "state": {
       "layout": "IPY_MODEL_21a71d700e6b4d059abc3520e7110225",
       "style": "IPY_MODEL_15c87d02794c41c097af1025fdca2d85",
       "value": "<h5>Queue</h5>"
      }
     },
     "a08cf84b27d84a589095868a8846d6c7": {
      "model_module": "@jupyter-widgets/base",
      "model_module_version": "2.0.0",
      "model_name": "LayoutModel",
      "state": {
       "width": "95px"
      }
     },
     "a31e425753de41efa4f0116e20e044e8": {
      "model_module": "@jupyter-widgets/base",
      "model_module_version": "2.0.0",
      "model_name": "LayoutModel",
      "state": {
       "width": "145px"
      }
     },
     "a6e6fbf94575469ea6ebd06e1c92b175": {
      "model_module": "@jupyter-widgets/controls",
      "model_module_version": "2.0.0",
      "model_name": "HTMLStyleModel",
      "state": {
       "description_width": "",
       "font_size": null,
       "text_color": null
      }
     },
     "ad4d78f7907a4e7db990e28f42528129": {
      "model_module": "@jupyter-widgets/controls",
      "model_module_version": "2.0.0",
      "model_name": "HTMLModel",
      "state": {
       "layout": "IPY_MODEL_a08cf84b27d84a589095868a8846d6c7",
       "style": "IPY_MODEL_5b10d8ebbf954864899124c64c681c08",
       "value": "<h5>Status</h5>"
      }
     },
     "ad993938f477465cb948a42f7bae5b5a": {
      "model_module": "@jupyter-widgets/base",
      "model_module_version": "2.0.0",
      "model_name": "LayoutModel",
      "state": {
       "width": "70px"
      }
     },
     "af059130f72745fd84f08d494343211f": {
      "model_module": "@jupyter-widgets/controls",
      "model_module_version": "2.0.0",
      "model_name": "HTMLModel",
      "state": {
       "layout": "IPY_MODEL_0a7b7115e3ac40648007aef653424f47",
       "style": "IPY_MODEL_a6e6fbf94575469ea6ebd06e1c92b175",
       "value": "<p style='font-family: IBM Plex Sans, Arial, Helvetica, sans-serif; font-size: 20px; font-weight: medium;'>Circuit Properties</p>"
      }
     },
     "b98fba5726b846aaa667ea1fb2089c8d": {
      "model_module": "@jupyter-widgets/controls",
      "model_module_version": "2.0.0",
      "model_name": "HTMLStyleModel",
      "state": {
       "description_width": "",
       "font_size": null,
       "text_color": null
      }
     },
     "ba1ac191ed084f53bc7f5bfa4094c251": {
      "model_module": "@jupyter-widgets/controls",
      "model_module_version": "2.0.0",
      "model_name": "HTMLStyleModel",
      "state": {
       "description_width": "",
       "font_size": null,
       "text_color": null
      }
     },
     "bb1e26c953e34aee91669dd82fc17663": {
      "model_module": "@jupyter-widgets/controls",
      "model_module_version": "2.0.0",
      "model_name": "HTMLStyleModel",
      "state": {
       "description_width": "",
       "font_size": null,
       "text_color": null
      }
     },
     "bdf1683579e2490f93365adaddf48f27": {
      "model_module": "@jupyter-widgets/controls",
      "model_module_version": "2.0.0",
      "model_name": "HTMLModel",
      "state": {
       "layout": "IPY_MODEL_4a8e82e1275a4b0a94cb351deec5af5f",
       "style": "IPY_MODEL_bb1e26c953e34aee91669dd82fc17663",
       "value": "<p style=white-space:nowrap;>job is queued</p>"
      }
     },
     "bdf5a6d2a98541bd9eb0ba0b638dd844": {
      "model_module": "@jupyter-widgets/controls",
      "model_module_version": "2.0.0",
      "model_name": "ButtonStyleModel",
      "state": {
       "font_family": null,
       "font_size": null,
       "font_style": null,
       "font_variant": null,
       "font_weight": null,
       "text_color": null,
       "text_decoration": null
      }
     },
     "c92b5f5d2561490a97beaa4ee00eb1e4": {
      "model_module": "@jupyter-widgets/base",
      "model_module_version": "2.0.0",
      "model_name": "LayoutModel",
      "state": {
       "width": "95px"
      }
     },
     "d3498a9648da4aca83711e9c2f12579d": {
      "model_module": "@jupyter-widgets/controls",
      "model_module_version": "2.0.0",
      "model_name": "HTMLModel",
      "state": {
       "layout": "IPY_MODEL_da10a0a79d2544f3aab3e83b3a968fd2",
       "style": "IPY_MODEL_804a28a5200d40389d93cfdb03ff21c2",
       "value": "<h5>Job ID</h5>"
      }
     },
     "da10a0a79d2544f3aab3e83b3a968fd2": {
      "model_module": "@jupyter-widgets/base",
      "model_module_version": "2.0.0",
      "model_name": "LayoutModel",
      "state": {
       "width": "190px"
      }
     },
     "e25076047ef44bed80de2b664cf609e8": {
      "model_module": "@jupyter-widgets/base",
      "model_module_version": "2.0.0",
      "model_name": "LayoutModel",
      "state": {
       "width": "145px"
      }
     },
     "e37563bf0dc8403584f4de7ded4d0199": {
      "model_module": "@jupyter-widgets/controls",
      "model_module_version": "2.0.0",
      "model_name": "HTMLModel",
      "state": {
       "layout": "IPY_MODEL_a31e425753de41efa4f0116e20e044e8",
       "style": "IPY_MODEL_486ce4f648584e78983e487996ba0787",
       "value": "<h5>Backend</h5>"
      }
     },
     "ee04fbbe8a1e44ffa091b0237ce949c3": {
      "model_module": "@jupyter-widgets/base",
      "model_module_version": "2.0.0",
      "model_name": "LayoutModel",
      "state": {
       "margin": "0px 0px 0px 37px",
       "width": "600px"
      }
     },
     "ee755fefa39744b9a8bd0fd64132048a": {
      "model_module": "@jupyter-widgets/controls",
      "model_module_version": "2.0.0",
      "model_name": "ButtonModel",
      "state": {
       "icon": "close",
       "layout": "IPY_MODEL_12a4daaa93234c229ecdd998a2033af7",
       "style": "IPY_MODEL_3f328961f06d4912b5afdc30db81a35c",
       "tooltip": null
      }
     },
     "fb9c881724094521a6b955ddb0bf980c": {
      "model_module": "@jupyter-widgets/base",
      "model_module_version": "2.0.0",
      "model_name": "LayoutModel",
      "state": {
       "grid_template_areas": "\n                                       \". . . . right \"\n                                        ",
       "grid_template_columns": "20% 20% 20% 20% 20%",
       "width": "100%"
      }
     },
     "fd37353e38404eafa29b033fd4e72fa8": {
      "model_module": "@jupyter-widgets/controls",
      "model_module_version": "2.0.0",
      "model_name": "HTMLModel",
      "state": {
       "layout": "IPY_MODEL_710f1c93b1ce407c8a19194b74ad80c7",
       "style": "IPY_MODEL_793c63f37f2b4a9db647d2dfe98fc89f",
       "value": "<h5>Message</h5>"
      }
     }
    },
    "version_major": 2,
    "version_minor": 0
   }
  }
 },
 "nbformat": 4,
 "nbformat_minor": 5
}
