{
  "cells": [
    {
      "cell_type": "code",
      "execution_count": null,
      "metadata": {
        "collapsed": false
      },
      "outputs": [],
      "source": [
        "# This cell is added by sphinx-gallery\n",
        "# It can be customized to whatever you like\n",
        "%matplotlib inline"
      ]
    },
    {
      "attachments": {},
      "cell_type": "markdown",
      "metadata": {},
      "source": [
        "Error mitigation with Mitiq and PennyLane\n",
        "=========================================\n",
        "\n",
        "\n",
        "Have you ever run a circuit on quantum hardware and not quite got the\n",
        "result you were expecting? If so, welcome to the world of noisy\n",
        "intermediate-scale quantum (NISQ) devices! These devices must function\n",
        "in noisy environments and are unable to execute quantum circuits\n",
        "perfectly, resulting in outputs that can have a significant error. The\n",
        "long-term plan of quantum computing is to develop a subsequent\n",
        "generation of error-corrected hardware. In the meantime, how can we best\n",
        "utilize our error-prone NISQ devices for practical tasks? One proposed\n",
        "solution is to adopt an approach called error *mitigation*, which aims\n",
        "to minimize the effects of noise by executing a family of related\n",
        "circuits and using the results to estimate an error-free value.\n",
        "\n",
        "!\n",
        "``` {.bash}\n",
        "pip install \"mitiq>=0.11\"\n",
        "```\n",
        "\n",
        "\n",
        "\n",
        "\n",
        "Mitigating noise in a simple circuit\n",
        "------------------------------------\n",
        "\n",
        "We first need a noisy device to execute our circuit on. Let\\'s keep\n",
        "things simple for now by loading the\n",
        "`default.mixed <pennylane.devices.default_mixed>`{.interpreted-text\n",
        "role=\"mod\"} simulator and artificially adding\n",
        "`PhaseDamping <pennylane.PhaseDamping>`{.interpreted-text role=\"class\"}\n",
        "noise.\n"
      ]
    },
    {
      "cell_type": "code",
      "execution_count": null,
      "metadata": {
        "collapsed": false
      },
      "outputs": [],
      "source": [
        "import pennylane as qml\n",
        "\n",
        "n_wires = 4\n",
        "\n",
        "# Describe noise\n",
        "noise_gate = qml.PhaseDamping\n",
        "noise_strength = 0.1\n",
        "\n",
        "# Load devices\n",
        "dev_ideal = qml.device(\"default.mixed\", wires=n_wires)\n",
        "dev_noisy = qml.transforms.insert(noise_gate, noise_strength)(dev_ideal)"
      ]
    },
    {
      "cell_type": "markdown",
      "metadata": {},
      "source": [
        "In the above, we load a noise-free device `dev_ideal` and a noisy device\n",
        "`dev_noisy`, which is constructed from the\n",
        "`qml.transforms.insert <pennylane.transforms.insert>`{.interpreted-text\n",
        "role=\"func\"} transform. This transform works by intercepting each\n",
        "circuit executed on the device and adding the\n",
        "`PhaseDamping <pennylane.PhaseDamping>`{.interpreted-text role=\"class\"}\n",
        "noise channel directly after every gate in the circuit. To get a better\n",
        "understanding of noise channels like\n",
        "`PhaseDamping <pennylane.PhaseDamping>`{.interpreted-text role=\"class\"},\n",
        "check out the `tutorial_noisy_circuits`{.interpreted-text role=\"doc\"}\n",
        "tutorial.\n",
        "\n",
        "The next step is to define our circuit. Inspired by the mirror circuits\n",
        "concept introduced by Proctor *et al.* let\\'s fix a circuit that applies\n",
        "a unitary $U$ followed by its inverse $U^{\\dagger}$, with $U$ given by\n",
        "the\n",
        "`SimplifiedTwoDesign <pennylane.SimplifiedTwoDesign>`{.interpreted-text\n",
        "role=\"class\"} template. We also fix a measurement of the\n",
        "`PauliZ <pennylane.PauliZ>`{.interpreted-text role=\"class\"} observable\n",
        "on our first qubit. Importantly, such a circuit performs an identity\n",
        "transformation $U^{\\dagger} U |\\psi\\rangle = |\\psi\\rangle$ to any input\n",
        "state $|\\psi\\rangle$ and we can show that the expected value of an ideal\n",
        "circuit execution with an input state $|0\\rangle$ is\n",
        "\n",
        "$$\\langle 0 | U U^{\\dagger} Z U^{\\dagger} U | 0 \\rangle = 1.$$\n",
        "\n",
        "Although this circuit seems trivial, it provides an ideal test case for\n",
        "benchmarking noisy devices where we expect the output to be less than\n",
        "one due to the detrimental effects of noise. Let\\'s check this out in\n",
        "PennyLane code:\n"
      ]
    },
    {
      "cell_type": "code",
      "execution_count": null,
      "metadata": {
        "collapsed": false
      },
      "outputs": [],
      "source": [
        "from pennylane import numpy as np\n",
        "\n",
        "np.random.seed(1967)\n",
        "\n",
        "# Select template to use within circuit and generate parameters\n",
        "n_layers = 1\n",
        "template = qml.SimplifiedTwoDesign\n",
        "weights_shape = template.shape(n_layers, n_wires)\n",
        "w1, w2 = [2 * np.pi * np.random.random(s) for s in weights_shape]\n",
        "\n",
        "\n",
        "def circuit(w1, w2):\n",
        "    template(w1, w2, wires=range(n_wires))\n",
        "    qml.adjoint(template)(w1, w2, wires=range(n_wires))\n",
        "    return qml.expval(qml.PauliZ(0))\n",
        "\n",
        "\n",
        "ideal_qnode = qml.QNode(circuit, dev_ideal)\n",
        "noisy_qnode = qml.QNode(circuit, dev_noisy)"
      ]
    },
    {
      "cell_type": "markdown",
      "metadata": {},
      "source": [
        "First, we\\'ll visualize the circuit:\n"
      ]
    },
    {
      "cell_type": "code",
      "execution_count": null,
      "metadata": {
        "collapsed": false
      },
      "outputs": [],
      "source": [
        "print(qml.draw(ideal_qnode, expansion_strategy=\"device\")(w1, w2))"
      ]
    },
    {
      "cell_type": "markdown",
      "metadata": {},
      "source": [
        "As expected, executing the circuit on an ideal noise-free device gives a\n",
        "result of `1`.\n"
      ]
    },
    {
      "cell_type": "code",
      "execution_count": null,
      "metadata": {
        "collapsed": false
      },
      "outputs": [],
      "source": [
        "ideal_qnode(w1, w2)"
      ]
    },
    {
      "cell_type": "markdown",
      "metadata": {},
      "source": [
        "On the other hand, we obtain a noisy result when running on `dev_noisy`:\n"
      ]
    },
    {
      "cell_type": "code",
      "execution_count": null,
      "metadata": {
        "collapsed": false
      },
      "outputs": [],
      "source": [
        "noisy_qnode(w1, w2)"
      ]
    },
    {
      "attachments": {},
      "cell_type": "markdown",
      "metadata": {},
      "source": [
        "So, we have set ourselves up with a benchmark circuit and seen that\n",
        "executing on a noisy device gives imperfect results. Can the results be\n",
        "improved? Time for error mitigation! We\\'ll first show how easy it is to\n",
        "add error mitigation in PennyLane with Mitiq as a backend, before\n",
        "explaining what is going on behind the scenes.\n",
        "\n",
        "\n",
        "\n",
        "To run the code below you will need to have the Qiskit plugin installed.\n",
        "This plugin can be installed using:\n",
        "\n",
        "``` {.bash}\n",
        "pip install pennylane-qiskit\n",
        "```\n",
        "\n",
        "The Qiskit plugin is required to convert our PennyLane circuits to\n",
        "OpenQASM 2.0, which is used as an intermediate representation when\n",
        "working with Mitiq.\n",
        "\n"
      ]
    },
    {
      "cell_type": "code",
      "execution_count": null,
      "metadata": {
        "collapsed": false
      },
      "outputs": [],
      "source": [
        "from mitiq.zne.scaling import fold_global\n",
        "from mitiq.zne.inference import RichardsonFactory\n",
        "from pennylane.transforms import mitigate_with_zne\n",
        "\n",
        "extrapolate = RichardsonFactory.extrapolate\n",
        "scale_factors = [1, 2, 3]\n",
        "\n",
        "mitigated_qnode = mitigate_with_zne(scale_factors, fold_global, extrapolate)(\n",
        "    noisy_qnode\n",
        ")\n",
        "mitigated_qnode(w1, w2)"
      ]
    },
    {
      "cell_type": "markdown",
      "metadata": {},
      "source": [
        "Amazing! Using PennyLane\\'s\n",
        "`mitigate_with_zne <pennylane.transforms.mitigate_with_zne>`{.interpreted-text\n",
        "role=\"func\"} transform, we can create a new `mitigated_qnode` whose\n",
        "result is closer to the ideal noise-free value of `1`. How does this\n",
        "work?\n",
        "\n",
        "Understanding error mitigation\n",
        "==============================\n",
        "\n",
        "Error mitigation can be realized through a number of techniques, and the\n",
        "Mitiq [documentation](https://mitiq.readthedocs.io/en/stable/) is a\n",
        "great resource to start learning more. In this demo, we focus upon the\n",
        "zero-noise extrapolation (ZNE) method originally introduced by Temme et\n",
        "al. and Li et al..\n",
        "\n",
        "The ZNE method works by assuming that the amount of noise present when a\n",
        "circuit is run on a noisy device is enumerated by a parameter $\\gamma$.\n",
        "Suppose we have an input circuit that experiences an amount of noise\n",
        "$\\gamma = \\gamma_{0}$ when executed. Ideally, we would like to evaluate\n",
        "the result of the circuit in the $\\gamma = 0$ noise-free setting.\n",
        "\n",
        "To do this, we create a family of equivalent circuits whose ideal\n",
        "noise-free value is the same as our input circuit. However, when run on\n",
        "a noisy device, each circuit experiences an amount of noise\n",
        "$\\gamma = s \\gamma_{0}$ for some scale factor $s \\ge 1$. By evaluating\n",
        "the noisy outputs of each circuit, we can extrapolate to $s=0$ to\n",
        "estimate the result of running a noise-free circuit.\n",
        "\n",
        "A key element of ZNE is the ability to run equivalent circuits for a\n",
        "range of scale factors $s$. When the noise present in a circuit scales\n",
        "with the number of gates, $s$ can be varied using unitary folding.\n",
        "Unitary folding works by noticing that any unitary $V$ is equivalent to\n",
        "$V V^{\\dagger} V$. This type of transform can be applied to individual\n",
        "gates in the circuit or to the whole circuit. Let\\'s see how folding\n",
        "works in code using Mitiq\\'s\n",
        "[fold\\_global](https://mitiq.readthedocs.io/en/stable/apidoc.html#mitiq.zne.scaling.folding.fold_global)\n",
        "function, which folds globally by setting $V$ to be the whole circuit.\n",
        "We begin by making a copy of our above circuit using a\n",
        "`QuantumTape <pennylane.tape.QuantumTape>`{.interpreted-text\n",
        "role=\"class\"}, which provides a low-level approach for circuit\n",
        "construction in PennyLane.\n"
      ]
    },
    {
      "cell_type": "code",
      "execution_count": null,
      "metadata": {
        "collapsed": false
      },
      "outputs": [],
      "source": [
        "with qml.tape.QuantumTape() as circuit:\n",
        "    template(w1, w2, wires=range(n_wires))\n",
        "    qml.adjoint(template)(w1, w2, wires=range(n_wires))"
      ]
    },
    {
      "cell_type": "markdown",
      "metadata": {},
      "source": [
        "Don\\'t worry, in most situations you will not need to work with a\n",
        "PennyLane `QuantumTape <pennylane.tape.QuantumTape>`{.interpreted-text\n",
        "role=\"class\"}! We are just dropping down to this representation to gain\n",
        "a greater understanding of the Mitiq integration. Let\\'s see how folding\n",
        "works for some typical scale factors:\n"
      ]
    },
    {
      "cell_type": "code",
      "execution_count": null,
      "metadata": {
        "collapsed": false
      },
      "outputs": [],
      "source": [
        "scale_factors = [1, 2, 3]\n",
        "folded_circuits = [fold_global(circuit, scale_factor=s) for s in scale_factors]\n",
        "\n",
        "for s, c in zip(scale_factors, folded_circuits):\n",
        "    print(f\"Globally-folded circuit with a scale factor of {s}:\")\n",
        "    print(qml.drawer.tape_text(c, decimals=2, max_length=80))"
      ]
    },
    {
      "cell_type": "markdown",
      "metadata": {},
      "source": [
        "Although these circuits are a bit deep, if you look carefully, you might\n",
        "be able to convince yourself that they are all equivalent! In fact,\n",
        "since we have fixed our original circuit to be of the form\n",
        "$U U^{\\dagger}$, we get:\n",
        "\n",
        "-   When the scale factor is $s=1$, the resulting circuit is\n",
        "\n",
        "    $$V = U^{\\dagger} U = \\mathbb{I}.$$\n",
        "\n",
        "    Hence, the $s=1$ setting gives us the original unfolded circuit.\n",
        "\n",
        "-   When $s=3$, the resulting circuit is\n",
        "\n",
        "    $$V V^{\\dagger} V = U^{\\dagger} U U U^{\\dagger} U^{\\dagger} U = \\mathbb{I}.$$\n",
        "\n",
        "    In other words, we fold the whole circuit once when $s=3$.\n",
        "    Generally, whenever $s$ is an odd integer, we fold $(s - 1) / 2$\n",
        "    times.\n",
        "\n",
        "-   The $s=2$ setting is a bit more subtle. Now we apply folding only to\n",
        "    the second half of the circuit, which is in our case given by\n",
        "    $U^{\\dagger}$. The resulting partially-folded circuit is\n",
        "\n",
        "    $$(U^{\\dagger} U U^{\\dagger}) U = \\mathbb{I}.$$\n",
        "\n",
        "    Visit Ref. to gain a deeper understanding of unitary folding.\n",
        "\n",
        "If you\\'re still not convinced, we can evaluate the folded circuits on\n",
        "our noise-free device `dev_ideal`. To do this, we\\'ll define an\n",
        "`executor` function that adds the\n",
        "`PauliZ <pennylane.PauliZ>`{.interpreted-text role=\"class\"} measurement\n",
        "onto the first qubit of each input circuit and then runs the circuits on\n",
        "a target device.\n"
      ]
    },
    {
      "cell_type": "code",
      "execution_count": null,
      "metadata": {
        "collapsed": false
      },
      "outputs": [],
      "source": [
        "def executor(circuits, dev=dev_noisy):\n",
        "    # Support both a single circuit and multiple circuit execution\n",
        "    circuits = [circuits] if isinstance(circuits, qml.tape.QuantumTape) else circuits\n",
        "\n",
        "    circuits_with_meas = []\n",
        "\n",
        "    # Loop through circuits and add on measurement\n",
        "    for c in circuits:\n",
        "        with qml.tape.QuantumTape() as circuit_with_meas:\n",
        "            for o in c.operations:\n",
        "                qml.apply(o)\n",
        "            qml.expval(qml.PauliZ(0))\n",
        "        circuits_with_meas.append(circuit_with_meas)\n",
        "\n",
        "    return qml.execute(circuits_with_meas, dev, gradient_fn=None)"
      ]
    },
    {
      "cell_type": "markdown",
      "metadata": {},
      "source": [
        "We need to do this step as part of the Mitiq integration with the\n",
        "low-level PennyLane\n",
        "`QuantumTape <pennylane.tape.QuantumTape>`{.interpreted-text\n",
        "role=\"class\"}. You will not have to worry about these details when using\n",
        "the main\n",
        "`mitigate_with_zne <pennylane.transforms.mitigate_with_zne>`{.interpreted-text\n",
        "role=\"func\"} function we encountered earlier.\n",
        "\n",
        "Now, let\\'s execute these circuits:\n"
      ]
    },
    {
      "cell_type": "code",
      "execution_count": null,
      "metadata": {
        "collapsed": false
      },
      "outputs": [],
      "source": [
        "executor(folded_circuits, dev=dev_ideal)"
      ]
    },
    {
      "cell_type": "markdown",
      "metadata": {},
      "source": [
        "By construction, these circuits are equivalent to the original and have\n",
        "the same output value of $1$. On the other hand, each circuit has a\n",
        "different depth. If we expect each gate in a circuit to contribute an\n",
        "amount of noise when running on NISQ hardware, we should see the result\n",
        "of the executed circuit degrade with increased depth. This can be\n",
        "confirmed using the `dev_noisy` device\n"
      ]
    },
    {
      "cell_type": "code",
      "execution_count": null,
      "metadata": {
        "collapsed": false
      },
      "outputs": [],
      "source": [
        "executor(folded_circuits, dev=dev_noisy)"
      ]
    },
    {
      "cell_type": "markdown",
      "metadata": {},
      "source": [
        "Although this degradation may seem undesirable, it is part of the\n",
        "standard recipe for ZNE error mitigation: we have a family of equivalent\n",
        "circuits that experience a varying amount of noise when executed on\n",
        "hardware, and we are able to control the amount of noise by varying the\n",
        "folding scale factor $s$ which determines the circuit depth. The final\n",
        "step is to extrapolate our results back to $s=0$, providing us with an\n",
        "estimate of the noise-free result of the circuit.\n",
        "\n",
        "Performing extrapolation is a well-studied numeric method in\n",
        "mathematics, and Mitiq provides access to some of the core approaches.\n",
        "Here we use the [Richardson\n",
        "extrapolation](https://en.wikipedia.org/wiki/Richardson_extrapolation)\n",
        "method with the objective of finding a curve $y = f(x)$ with some fixed\n",
        "$(x, y)$ values given by the scale factors and corresponding circuit\n",
        "execution results, respectively. This can be performed using:\n"
      ]
    },
    {
      "cell_type": "code",
      "execution_count": null,
      "metadata": {
        "collapsed": false
      },
      "outputs": [],
      "source": [
        "# Evaluate noise-scaled expectation values\n",
        "noisy_expectation_values = executor(folded_circuits, dev=dev_noisy)\n",
        "\n",
        "# Initialize extrapolation method\n",
        "fac = RichardsonFactory(scale_factors)\n",
        "\n",
        "# Load data into extrapolation factory\n",
        "for x, y in zip(scale_factors, noisy_expectation_values):\n",
        "    fac.push({\"scale_factor\": x}, y)\n",
        "\n",
        "# Run extrapolation\n",
        "zero_noise = fac.reduce()\n",
        "\n",
        "print(f\"ZNE result: {zero_noise}\")"
      ]
    },
    {
      "cell_type": "markdown",
      "metadata": {},
      "source": [
        "Let\\'s make a plot of the data and fitted extrapolation function.\n"
      ]
    },
    {
      "cell_type": "code",
      "execution_count": null,
      "metadata": {
        "collapsed": false
      },
      "outputs": [],
      "source": [
        "_ = fac.plot_fit()"
      ]
    },
    {
      "cell_type": "markdown",
      "metadata": {},
      "source": [
        "Since we are using the Richardson extrapolation method, the fitted\n",
        "function (dashed line) corresponds to a polynomial interpolation of the\n",
        "measured data (blue points).\n",
        "\n",
        "The zero-noise limit corresponds to the value of the extrapolation\n",
        "function evaluated at [x=0]{.title-ref}.\n",
        "\n",
        "Error mitigation in PennyLane\n",
        "=============================\n",
        "\n",
        "Now that we understand the ZNE method for error mitigation, we can\n",
        "provide a few more details on how it can be performed using PennyLane.\n",
        "As we have seen, the\n",
        "`mitigate_with_zne <pennylane.transforms.mitigate_with_zne>`{.interpreted-text\n",
        "role=\"func\"} function provides the main entry point. This function is an\n",
        "example of a\n",
        "`circuit transform, </code/qml_transforms>`{.interpreted-text\n",
        "role=\"doc\"} and it can be applied to pre-constructed QNodes as well as\n",
        "being used as a decorator when constructing new QNodes. For example,\n",
        "suppose we have a `qnode` already defined. A mitigated QNode can be\n",
        "created using:\n",
        "\n",
        "``` {.python}\n",
        "mitigated_qnode = mitigate_with_zne(scale_factors, folding, extrapolate)(qnode)\n",
        "```\n",
        "\n",
        "When using `mitigate_with_zne`, we must specify the target scale factors\n",
        "as well as provide functions for folding and extrapolation. Due to\n",
        "PennyLane\\'s integration with Mitiq, it is possible to use the folding\n",
        "functions provided in the\n",
        "[mitiq.zne.scaling.folding](https://mitiq.readthedocs.io/en/stable/apidoc.html#module-mitiq.zne.scaling.folding)\n",
        "module. For extrapolation, one can use the `extrapolate` method of the\n",
        "factories in the\n",
        "[mitiq.zne.inference](https://mitiq.readthedocs.io/en/stable/apidoc.html#module-mitiq.zne.inference)\n",
        "module.\n",
        "\n",
        "We now provide an example of how `mitigate_with_zne` can be used when\n",
        "constructing a QNode:\n"
      ]
    },
    {
      "cell_type": "code",
      "execution_count": null,
      "metadata": {
        "collapsed": false
      },
      "outputs": [],
      "source": [
        "from mitiq.zne.scaling import fold_gates_at_random as folding\n",
        "\n",
        "extrapolate = RichardsonFactory.extrapolate\n",
        "\n",
        "\n",
        "@mitigate_with_zne(scale_factors, folding, extrapolate, reps_per_factor=100)\n",
        "@qml.qnode(dev_noisy)\n",
        "def mitigated_qnode(w1, w2):\n",
        "    template(w1, w2, wires=range(n_wires))\n",
        "    qml.adjoint(template)(w1, w2, wires=range(n_wires))\n",
        "    return qml.expval(qml.PauliZ(0))\n",
        "\n",
        "\n",
        "mitigated_qnode(w1, w2)"
      ]
    },
    {
      "cell_type": "markdown",
      "metadata": {},
      "source": [
        "In the above, we can easily add in error mitigation using the\n",
        "`@mitigate_with_zne` decorator. To keep things interesting, we\\'ve\n",
        "swapped out our folding function to instead perform folding on\n",
        "randomly-selected gates. Whenever the folding function is stochastic,\n",
        "there will not be a unique folded circuit corresponding to a given scale\n",
        "factor. For example, the following three distinct circuits are all\n",
        "folded with a scale factor of $s=1.1$:\n"
      ]
    },
    {
      "cell_type": "code",
      "execution_count": null,
      "metadata": {
        "collapsed": false
      },
      "outputs": [],
      "source": [
        "for _ in range(3):\n",
        "    print(qml.drawer.tape_text(folding(circuit, scale_factor=1.1), decimals=2, max_length=80))"
      ]
    },
    {
      "cell_type": "markdown",
      "metadata": {},
      "source": [
        "To accommodate for this randomness, we can perform multiple repetitions\n",
        "of random folding for a fixed $s$ and average over the execution results\n",
        "to generate the value $f(s)$ used for extrapolation. As shown above, the\n",
        "number of repetitions is controlled by setting the optional\n",
        "`reps_per_factor` argument.\n",
        "\n",
        "We conclude this section by highlighting the possibility of working\n",
        "directly with the core functionality available in Mitiq. For example,\n",
        "the\n",
        "[execute\\_with\\_zne](https://mitiq.readthedocs.io/en/stable/apidoc.html#mitiq.zne.zne.execute_with_zne)\n",
        "function is one of the central components of ZNE support in Mitiq and is\n",
        "compatible with circuits constructed using a PennyLane\n",
        "`QuantumTape <pennylane.tape.QuantumTape>`{.interpreted-text\n",
        "role=\"class\"}. Working directly with Mitiq can be preferable when more\n",
        "flexibility is required in specifying the error mitigation protocol. For\n",
        "example, the code below shows how an adaptive approach can be used to\n",
        "determine a sequence of scale factors for extrapolation using Mitiq\\'s\n",
        "[AdaExpFactory](https://mitiq.readthedocs.io/en/stable/apidoc.html#mitiq.zne.inference.AdaExpFactory).\n"
      ]
    },
    {
      "cell_type": "code",
      "execution_count": null,
      "metadata": {
        "collapsed": false
      },
      "outputs": [],
      "source": [
        "from mitiq.zne import execute_with_zne\n",
        "from mitiq.zne.inference import AdaExpFactory\n",
        "\n",
        "factory = AdaExpFactory(steps=20)\n",
        "\n",
        "execute_with_zne(circuit, executor, factory=factory, scale_noise=fold_global)"
      ]
    },
    {
      "cell_type": "markdown",
      "metadata": {},
      "source": [
        "Recall that `circuit` is a PennyLane\n",
        "`QuantumTape <pennylane.tape.QuantumTape>`{.interpreted-text\n",
        "role=\"class\"} and that it should not include measurements. We also use\n",
        "the `executor` function defined earlier that adds on the target\n",
        "measurement and executes on a noisy device.\n",
        "\n",
        "Mitigating noisy circuits in quantum chemistry\n",
        "==============================================\n",
        "\n",
        "We\\'re now ready to apply our knowledge to a more practical problem in\n",
        "quantum chemistry: calculating the potential energy surface of molecular\n",
        "hydrogen. This is achieved by finding the ground state energy of $H_{2}$\n",
        "as we increase the bond length between the hydrogen atoms. As shown in\n",
        "`this <tutorial_chemical_reactions>`{.interpreted-text role=\"doc\"}\n",
        "tutorial, one approach to finding the ground state energy is to\n",
        "calculate the corresponding qubit Hamiltonian and to fix an ansatz\n",
        "variational quantum circuit that returns its expectation value. We can\n",
        "then vary the parameters of the circuit to minimize the energy.\n",
        "\n",
        "To find the potential energy surface of $H_{2}$, we must choose a range\n",
        "of interatomic distances and calculate the qubit Hamiltonian\n",
        "corresponding to each distance. We then optimize the variational circuit\n",
        "with a new set of parameters for each Hamiltonian and plot the resulting\n",
        "energies for each distance. In this demo, we compare the potential\n",
        "energy surface reconstructed when the optimized variational circuits are\n",
        "run on ideal, noisy, and noise-mitigated devices.\n",
        "\n",
        "Instead of modifying the\n",
        "`default.mixed <pennylane.devices.default_mixed>`{.interpreted-text\n",
        "role=\"mod\"} device to add simple noise as we do above, let\\'s choose a\n",
        "noise model that is a little closer to physical hardware. Suppose we\n",
        "want to simulate the `ibmq_lima` hardware device available on IBMQ. We\n",
        "can load a noise model that represents this device using:\n"
      ]
    },
    {
      "cell_type": "code",
      "execution_count": null,
      "metadata": {
        "collapsed": false
      },
      "outputs": [],
      "source": [
        "from qiskit.test.mock import FakeLima\n",
        "from qiskit.providers.aer.noise import NoiseModel\n",
        "\n",
        "backend = FakeLima()\n",
        "noise_model = NoiseModel.from_backend(backend)"
      ]
    },
    {
      "cell_type": "markdown",
      "metadata": {},
      "source": [
        "We can then set up our ideal device and the noisy simulator of\n",
        "`ibmq_lima`.\n"
      ]
    },
    {
      "cell_type": "code",
      "execution_count": null,
      "metadata": {
        "collapsed": false
      },
      "outputs": [],
      "source": [
        "n_wires = 4\n",
        "\n",
        "dev_ideal = qml.device(\"default.qubit\", wires=n_wires)\n",
        "dev_noisy = qml.device(\n",
        "    \"qiskit.aer\",\n",
        "    wires=n_wires,\n",
        "    noise_model=noise_model,\n",
        "    optimization_level=0,\n",
        "    shots=10000,\n",
        ")"
      ]
    },
    {
      "cell_type": "markdown",
      "metadata": {},
      "source": [
        "Note the use of the `optimization_level=0` argument when loading the\n",
        "noisy device. This prevents the `qiskit.aer` transpiler from performing\n",
        "a pre-execution circuit optimization.\n",
        "\n",
        "To simplify this demo, we will load pre-trained parameters for our\n",
        "variational circuit.\n"
      ]
    },
    {
      "cell_type": "code",
      "execution_count": null,
      "metadata": {
        "collapsed": false
      },
      "outputs": [],
      "source": [
        "params = np.load(\"error_mitigation/params.npy\")"
      ]
    },
    {
      "cell_type": "markdown",
      "metadata": {},
      "source": [
        "These parameters can be downloaded by clicking\n",
        "`here <../demonstrations/error_mitigation/params.npy>`{.interpreted-text\n",
        "role=\"download\"}. We are now ready to set up the variational circuit and\n",
        "run on the ideal and noisy devices.\n"
      ]
    },
    {
      "cell_type": "code",
      "execution_count": null,
      "metadata": {
        "collapsed": false
      },
      "outputs": [],
      "source": [
        "from pennylane import qchem\n",
        "\n",
        "# Describe quantum chemistry problem\n",
        "symbols = [\"H\", \"H\"]\n",
        "distances = np.arange(0.5, 3.0, 0.25)\n",
        "\n",
        "ideal_energies = []\n",
        "noisy_energies = []\n",
        "\n",
        "for r, phi in zip(distances, params):\n",
        "    # Assume atoms lie on the Z axis\n",
        "    coordinates = np.array([0.0, 0.0, 0.0, 0.0, 0.0, r])\n",
        "\n",
        "    # Load qubit Hamiltonian\n",
        "    H, _ = qchem.molecular_hamiltonian(symbols, coordinates)\n",
        "\n",
        "    # Define ansatz circuit\n",
        "    def qchem_circuit(phi):\n",
        "        qml.PauliX(wires=0)\n",
        "        qml.PauliX(wires=1)\n",
        "        qml.DoubleExcitation(phi, wires=range(n_wires))\n",
        "        return qml.expval(H)\n",
        "\n",
        "    ideal_energy = qml.QNode(qchem_circuit, dev_ideal)\n",
        "    noisy_energy = qml.QNode(qchem_circuit, dev_noisy)\n",
        "\n",
        "    ideal_energies.append(ideal_energy(phi))\n",
        "    noisy_energies.append(noisy_energy(phi))"
      ]
    },
    {
      "cell_type": "markdown",
      "metadata": {},
      "source": [
        "An error-mitigated version of the potential energy surface can also be\n",
        "calculated using the following:\n"
      ]
    },
    {
      "cell_type": "code",
      "execution_count": null,
      "metadata": {
        "collapsed": false
      },
      "outputs": [],
      "source": [
        "mitig_energies = []\n",
        "\n",
        "for r, phi in zip(distances, params):\n",
        "    # Assume atoms lie on the Z axis\n",
        "    coordinates = np.array([0.0, 0.0, 0.0, 0.0, 0.0, r])\n",
        "\n",
        "    # Load qubit Hamiltonian\n",
        "    H, _ = qchem.molecular_hamiltonian(symbols, coordinates)\n",
        "\n",
        "    # Define ansatz circuit\n",
        "    with qml.tape.QuantumTape() as circuit:\n",
        "        qml.PauliX(wires=0)\n",
        "        qml.PauliX(wires=1)\n",
        "        qml.DoubleExcitation(phi, wires=range(n_wires))\n",
        "\n",
        "    # Define custom executor that expands Hamiltonian measurement\n",
        "    # into a linear combination of tensor products of Pauli\n",
        "    # operators.\n",
        "    def executor(circuit):\n",
        "\n",
        "        # Add Hamiltonian measurement to circuit\n",
        "        with qml.tape.QuantumTape() as circuit_with_meas:\n",
        "            for o in circuit.operations:\n",
        "                qml.apply(o)\n",
        "            qml.expval(H)\n",
        "\n",
        "        # Expand Hamiltonian measurement into tensor product of\n",
        "        # of Pauli operators. We get a list of circuits to execute\n",
        "        # and a postprocessing function to combine the results into\n",
        "        # a single number.\n",
        "        circuits, postproc = qml.transforms.hamiltonian_expand(\n",
        "            circuit_with_meas, group=False\n",
        "        )\n",
        "        circuits_executed = qml.execute(circuits, dev_noisy, gradient_fn=None)\n",
        "        return postproc(circuits_executed)\n",
        "\n",
        "    mitig_energy = execute_with_zne(circuit, executor, scale_noise=fold_global)\n",
        "    mitig_energies.append(mitig_energy)"
      ]
    },
    {
      "cell_type": "markdown",
      "metadata": {},
      "source": [
        "Finally, we can plot the three surfaces and compare:\n"
      ]
    },
    {
      "cell_type": "code",
      "execution_count": null,
      "metadata": {
        "collapsed": false
      },
      "outputs": [],
      "source": [
        "import matplotlib.pyplot as plt\n",
        "\n",
        "plt.plot(ideal_energies, label=\"ideal\")\n",
        "plt.plot(noisy_energies, label=\"noisy\")\n",
        "plt.plot(mitig_energies, label=\"mitigated\")\n",
        "plt.xlabel(\"Bond length (Bohr)\")\n",
        "plt.ylabel(\"Total energy (Hartree)\")\n",
        "plt.legend()\n",
        "plt.show()"
      ]
    },
    {
      "attachments": {},
      "cell_type": "markdown",
      "metadata": {},
      "source": [
        "Great, error mitigation has allowed us to more closely approximate the\n",
        "ideal noise-free curve!\n",
        "\n",
        "We have seen in this demo how easy error mitigation can be in PennyLane\n",
        "when using Mitiq as a backend. As well as understanding the basics of\n",
        "the ZNE method, we have also seen how mitigation can be used to uplift\n",
        "the performance of noisy devices for practical tasks like quantum\n",
        "chemistry. On the other hand, we\\'ve only just started to scratch the\n",
        "surface of what can be done with error mitigation. We can explore\n",
        "applying the ZNE method to other use cases, or even try out other\n",
        "mitigation methods like [probabilistic error\n",
        "cancellation](https://mitiq.readthedocs.io/en/stable/examples/pec-tutorial.html).\n",
        "Let us know where your adventures take you, and the Mitiq and PennyLane\n",
        "teams will keep working to help make error mitigation as easy as\n",
        "possible!\n",
        "\n"
      ]
    }
  ],
  "metadata": {
    "kernelspec": {
      "display_name": "Python 3",
      "language": "python",
      "name": "python3"
    },
    "language_info": {
      "codemirror_mode": {
        "name": "ipython",
        "version": 3
      },
      "file_extension": ".py",
      "mimetype": "text/x-python",
      "name": "python",
      "nbconvert_exporter": "python",
      "pygments_lexer": "ipython3",
      "version": "3.9.17"
    }
  },
  "nbformat": 4,
  "nbformat_minor": 0
}
