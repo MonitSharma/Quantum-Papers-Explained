{
 "cells": [
  {
   "cell_type": "markdown",
   "metadata": {},
   "source": [
    "# Expectation value of an Operator"
   ]
  },
  {
   "cell_type": "markdown",
   "metadata": {},
   "source": [
    "$$ E = \\langle \\psi |O|\\psi\\rangle$$"
   ]
  },
  {
   "cell_type": "code",
   "execution_count": 1,
   "metadata": {},
   "outputs": [
    {
     "data": {
      "image/png": "[encoded data removed]",
      "text/plain": [
       "<Figure size 203.683x200.667 with 1 Axes>"
      ]
     },
     "execution_count": 1,
     "metadata": {},
     "output_type": "execute_result"
    }
   ],
   "source": [
    "from qiskit import QuantumCircuit, QuantumRegister, ClassicalRegister\n",
    "\n",
    "circuit = QuantumCircuit(2)\n",
    "circuit.z(0)\n",
    "circuit.z(1)\n",
    "#op = CircuitOp(circuit)\n",
    "circuit.draw(style='iqx',output='mpl')"
   ]
  },
  {
   "cell_type": "code",
   "execution_count": 13,
   "metadata": {},
   "outputs": [
    {
     "name": "stdout",
     "output_type": "stream",
     "text": [
      "SparsePauliOp(['II', 'IZ', 'ZI', 'ZZ', 'XX'],\n",
      "              coeffs=[-1.05237325+0.j,  0.39793742+0.j, -0.39793742+0.j, -0.0112801 +0.j,\n",
      "  0.1809312 +0.j])\n"
     ]
    }
   ],
   "source": [
    "from qiskit.quantum_info import Pauli, SparsePauliOp\n",
    "\n",
    "X = Pauli('X')\n",
    "Y = Pauli('Y')\n",
    "Z = Pauli('Z')\n",
    "I = Pauli('I')\n",
    "operator = SparsePauliOp([\"II\", \"IZ\", \"ZI\",\"ZZ\",\"XX\" ], coeffs = [-1.052373245772859, 0.39793742484318045,-0.39793742484318045,\n",
    "                                                                  -0.01128010425623538,0.18093119978423156 ])\n",
    "#op = (-1.052373245772859 * I^I) + (0.39793742484318045 * I^Z) +\n",
    "# (-0.39793742484318045 * Z^I) + (-0.01128010425623538 * Z^Z) + \n",
    "#(0.18093119978423156 * X^X)\n",
    "\n",
    "print(operator)"
   ]
  },
  {
   "cell_type": "markdown",
   "metadata": {},
   "source": [
    "The state with respect to which we want to find the expectation value"
   ]
  },
  {
   "cell_type": "code",
   "execution_count": 16,
   "metadata": {},
   "outputs": [],
   "source": [
    "from qiskit.quantum_info import SparsePauliOp, Statevector\n",
    "from qiskit.primitives import Estimator\n",
    "psi = QuantumCircuit(2)\n",
    "psi.x(0)\n",
    "psi.x(1)\n",
    "estimator = Estimator()\n",
    "#psi = Statevector(psi)\n",
    "expectation_value = estimator.run(psi, operator).result().values.real\n"
   ]
  },
  {
   "cell_type": "markdown",
   "metadata": {},
   "source": [
    "Doing the matrix Multiplication"
   ]
  },
  {
   "cell_type": "code",
   "execution_count": 17,
   "metadata": {},
   "outputs": [
    {
     "name": "stdout",
     "output_type": "stream",
     "text": [
      "[-1.06365335]\n"
     ]
    }
   ],
   "source": [
    "print(expectation_value)"
   ]
  },
  {
   "cell_type": "markdown",
   "metadata": {},
   "source": [
    "## Decomposition of a Quantum Circuit \n",
    "\n",
    "based on [Constructing a virtual two-qubit gate by sampling\n",
    "single-qubit operations](https://iopscience.iop.org/article/10.1088/1367-2630/abd7bc/pdf)"
   ]
  },
  {
   "cell_type": "markdown",
   "metadata": {},
   "source": [
    "That shows how you can decompose a CZ gate into set of $6$ single qubit gates:\n",
    "\n",
    "![alt-text](decompose.png)"
   ]
  },
  {
   "cell_type": "markdown",
   "metadata": {},
   "source": [
    "Using this decomposition we get: \n",
    "$$ \\begin{bmatrix}\n",
    "                            1-i & 0 & 0 & 0 \\\\\n",
    "                            0 & 1+i& 0 & 0 \\\\\n",
    "                            0 & 0 & 1+i & 0 \\\\\n",
    "                            0 & 0 & 0 & -1-i\n",
    "                        \\end{bmatrix}$$"
   ]
  },
  {
   "cell_type": "code",
   "execution_count": 23,
   "metadata": {},
   "outputs": [
    {
     "name": "stdout",
     "output_type": "stream",
     "text": [
      "[[ 1.-1.j  0.+0.j  0.+0.j  0.+0.j]\n",
      " [ 0.+0.j  1.+1.j  0.+0.j  0.+0.j]\n",
      " [ 0.+0.j  0.+0.j  1.+1.j  0.+0.j]\n",
      " [ 0.+0.j  0.+0.j  0.+0.j -1.-1.j]]\n"
     ]
    }
   ],
   "source": [
    "import numpy as np\n",
    "\n",
    "i = np.eye(2)\n",
    "\n",
    "z = np.array([[1,0],[0,-1]])\n",
    "\n",
    "t1  = 1/2*np.kron(1/np.sqrt(2)*(i+1j*z), 1/np.sqrt(2)*(i+1j*z))\n",
    "\n",
    "t2  = 1/2*np.kron(1/np.sqrt(2)*(i-1j*z), 1/np.sqrt(2)*(i-1j*z))\n",
    "\n",
    "t3 = 0\n",
    "for a1 in [-1,1]:\n",
    "   for a2 in [-1,1]:\n",
    "       t3 += -1/2 *a1*a2*( np.kron((i+a1*z)/2, np.cos((a2+1)*np.pi/4)*i+1j*np.sin((a2+1)*np.pi/4)*z) + np.kron(np.cos((a1+1)*np.pi/4)*i+1j*np.sin((a1+1)*np.pi/4)*z, (i+a2*z)/2) )\n",
    "t4 = t1+t2+t3\n",
    "print(t1+t2+t3)"
   ]
  },
  {
   "cell_type": "code",
   "execution_count": null,
   "metadata": {},
   "outputs": [],
   "source": []
  },
  {
   "cell_type": "markdown",
   "metadata": {},
   "source": [
    "whereas the matrix of CZ gate is:\n",
    "\n",
    "$$ \\begin{bmatrix}\n",
    "                            1 & 0 & 0 & 0 \\\\\n",
    "                            0 & 1& 0 & 0 \\\\\n",
    "                            0 & 0 & 1 & 0 \\\\\n",
    "                            0 & 0 & 0 & -1\n",
    "                        \\end{bmatrix}$$"
   ]
  },
  {
   "cell_type": "markdown",
   "metadata": {},
   "source": [
    "Note that the paper itself mentions that equality holds when we consider the operations as quantum channels, which leads to the equal expectation values. So the channel representation of CZ gate and the decomposed one should be the same.\n",
    "\n",
    "The channel representation of a quantum gate $U$ essentially correspinds to the action of a gate on the density matrix $\\rho$, as in $S(U) = U \\rho U^{\\dagger}$, instead of it's action on the pure state wave function."
   ]
  },
  {
   "cell_type": "markdown",
   "metadata": {},
   "source": [
    "## CX Gate Decomposition\n",
    "\n",
    "$$ CNOT = (\\mathbb{1} \\otimes H) CZ (\\mathbb{1} \\otimes H)$$\n",
    "\n"
   ]
  },
  {
   "cell_type": "markdown",
   "metadata": {},
   "source": [
    "![alt-text](cx_decom.png)"
   ]
  },
  {
   "cell_type": "code",
   "execution_count": 6,
   "metadata": {},
   "outputs": [
    {
     "name": "stdout",
     "output_type": "stream",
     "text": [
      "[[ 1.00000000e+00+0.j  1.11022302e-16-1.j  0.00000000e+00+0.j\n",
      "   0.00000000e+00+0.j]\n",
      " [ 1.11022302e-16-1.j  1.00000000e+00+0.j  0.00000000e+00+0.j\n",
      "   0.00000000e+00+0.j]\n",
      " [ 0.00000000e+00+0.j  0.00000000e+00+0.j -5.55111512e-17+0.j\n",
      "   1.00000000e+00+1.j]\n",
      " [ 0.00000000e+00+0.j  0.00000000e+00+0.j  1.00000000e+00+1.j\n",
      "  -5.55111512e-17+0.j]]\n"
     ]
    }
   ],
   "source": [
    "import numpy as np\n",
    "\n",
    "i = np.eye(2)\n",
    "\n",
    "z = np.array([[1,0],[0,-1]])\n",
    "x = np.array([[0,1],[1,0]])\n",
    "\n",
    "t1  = 1/2*np.kron(1/np.sqrt(2)*(i+1j*z), 1/np.sqrt(2)*(i+1j*x))\n",
    "\n",
    "t2  = 1/2*np.kron(1/np.sqrt(2)*(i-1j*z), 1/np.sqrt(2)*(i-1j*x))\n",
    "\n",
    "t3 = 0\n",
    "for a1 in [-1,1]:\n",
    "   for a2 in [-1,1]:\n",
    "       t3 += -1/2 *a1*a2*( np.kron((i+a1*z)/2, np.cos((a2+1)*np.pi/4)*i+1j*np.sin((a2+1)*np.pi/4)*x) + np.kron(np.cos((a1+1)*np.pi/4)*i+1j*np.sin((a1+1)*np.pi/4)*z, (i+a2*x)/2) )\n",
    "\n",
    "print(t1+t2+t3)"
   ]
  },
  {
   "cell_type": "markdown",
   "metadata": {},
   "source": [
    "This is coming out to be\n",
    "\n",
    "$$ \\begin{pmatrix}\n",
    " 1 & -i & 0 & 0 \\\\\n",
    " -i & 1 & 0 & 0 \\\\\n",
    " 0 & 0 & 0 & 1+i \\\\\n",
    " 0 & 0 & 1+i & 0\n",
    " \\end{pmatrix}$$"
   ]
  },
  {
   "cell_type": "markdown",
   "metadata": {},
   "source": [
    "Where the actual CNOT matrix is :\n",
    "\n",
    "$$\\begin{pmatrix}\n",
    " 1 & 0 & 0 & 0 \\\\\n",
    " 0 & 1 & 0 & 0 \\\\\n",
    " 0 & 0 & 0 & 1 \\\\\n",
    " 0 & 0 & 1 & 0\n",
    " \\end{pmatrix}$$"
   ]
  },
  {
   "cell_type": "markdown",
   "metadata": {},
   "source": [
    "The point about this paper by Mitarai and Fujii is not to express a two-qubit gate as a linear combination of tensor products of single-qubit gates. In fact, for the sort of two-qubit gate they consider,$e^{i \\theta A_1 \\otimes A_2}$ with $A_1^2 = \\mathbb{1}$ and $A_2^2 = \\mathbb{1}$ there is one such trivial decomposition: \n",
    "\n",
    "$$ e^{i \\theta A_1 \\otimes A_2} = \\cos \\theta \\; \\mathbb{1} \\otimes \\mathbb{1} + i \\sin \\theta \\; A_1 \\otimes A_2 $$"
   ]
  },
  {
   "cell_type": "markdown",
   "metadata": {},
   "source": [
    "The equalities do not refer to the $4 \\times 4$ matrix representations of the two-qubit operations but rather to the expectation values computed with such two-qubit operations. Or, equivalently, in the words of one of the authors, `the equality holds when we consider the operations as quantum channels`."
   ]
  },
  {
   "cell_type": "markdown",
   "metadata": {},
   "source": [
    "## Superoperator Representation"
   ]
  },
  {
   "cell_type": "code",
   "execution_count": 28,
   "metadata": {},
   "outputs": [
    {
     "name": "stdout",
     "output_type": "stream",
     "text": [
      "Choi matrix for CZ gate:\n",
      "[[ 0.5  0.   0.5  0. ]\n",
      " [ 0.   0.5  0.  -0.5]]\n",
      "\n",
      "Sample density matrix for control qubit:\n",
      "[[0.7 0.3]\n",
      " [0.3 0.3]]\n",
      "\n",
      "Result of CZ gate operation on the density matrix:\n",
      "0.7\n"
     ]
    }
   ],
   "source": [
    "import numpy as np\n",
    "\n",
    "# Define Pauli Z matrix\n",
    "Z = np.array([[1, 0],\n",
    "              [0, -1]])\n",
    "\n",
    "# Define computational basis states\n",
    "ket0 = np.array([1, 0])\n",
    "ket1 = np.array([0, 1])\n",
    "\n",
    "# Construct the Choi matrix for CZ gate\n",
    "J_CZ = 0.5 * (np.kron(ket0, np.eye(2)) + np.kron(ket1, Z))\n",
    "\n",
    "# Define a sample density matrix for the control qubit\n",
    "rho_control = np.array([[0.7, 0.3],\n",
    "                        [0.3, 0.3]])\n",
    "\n",
    "# Create the tensor product of the transposed density matrix and the identity matrix\n",
    "rho_tensor_identity = np.kron(np.transpose(rho_control), np.eye(2))\n",
    "\n",
    "# Apply the partial trace\n",
    "result = np.trace(np.dot(J_CZ, rho_tensor_identity))\n",
    "\n",
    "print(\"Choi matrix for CZ gate:\")\n",
    "print(J_CZ)\n",
    "print(\"\\nSample density matrix for control qubit:\")\n",
    "print(rho_control)\n",
    "print(\"\\nResult of CZ gate operation on the density matrix:\")\n",
    "print(result)\n"
   ]
  },
  {
   "cell_type": "markdown",
   "metadata": {},
   "source": [
    "There's a difference between quantum gates and quantum channels:\n",
    "\n",
    "\n",
    "\n",
    "A quantum gate is a unitary operator on a Hilbert space, where typically this Hilbert space is associated with a system of qubits. In the case of a single qubit a quantum gate is a $2×2$\n",
    "unitary matrix, where $|0⟩$ and $|1⟩$ are the computational basis states. For example, the quantum NOT gate is the unitary matrix $X$ that maps $|0⟩↦|1⟩$ and $|1⟩→|0⟩$. Of course, unitary operators can act on superpositions (i.e. linear combinations) $α|0⟩+β|1⟩$ of these basis states, which is required to perform quantum computation. For systems of $n$ qubits, quantum gates are unitary matrices that act on the Hilbert space $C^{2^n}$."
   ]
  },
  {
   "cell_type": "markdown",
   "metadata": {},
   "source": [
    "Quantum channels are a little bit more complicated mathematically. A density matrix is a positive semi-definite matrix $ρ$ with $Tr(ρ)=1$.\n",
    "\n",
    "Density matrices represent the information about a quantum state, i.e. the probabilities and outcomes of the state that can arise upon measurement. A quantum channel is a linear map that maps density matrices to density matrices by preserving the fundamental properties, such as the positivity and trace condition of the density matrix. However, any quantum channel must also have an additional property known as complete positivity to ensure that it is compatible with the other axioms of quantum mechanics. A quantum channel is a completely positive trace-preserving (CPTP) map.\n",
    "\n",
    "Distinctions aside, in the context of physics, quantum gates and quantum channels arise from the unitary evolution of a quantum system according to the Schrodinger equation. The Hamiltonian (a mathematical object governing these dynamics via encoding the interactions of the quantum system) evolves in time, and the result is a unitary transformation of the quantum state of the system. Thus to enact a gate on a quantum computer, we find a Hamiltonian that we can evolve to produce the desired effect of the quantum gate. Although a quantum system evolves unitarily, perhaps we only have access to part of the whole system; in this case, the effect is not unitary on this portion of the system but is described by a quantum channel (i.e. a CPTP map). If the whole system is accessible, then the quantum channel is described by unitary conjugation (also called a unitary channel)."
   ]
  },
  {
   "cell_type": "code",
   "execution_count": null,
   "metadata": {},
   "outputs": [],
   "source": []
  },
  {
   "cell_type": "code",
   "execution_count": null,
   "metadata": {},
   "outputs": [],
   "source": []
  },
  {
   "cell_type": "code",
   "execution_count": 7,
   "metadata": {},
   "outputs": [
    {
     "data": {
      "text/html": [
       "<h3>Version Information</h3><table><tr><th>Software</th><th>Version</th></tr><tr><td><code>qiskit</code></td><td>0.44.1</td></tr><tr><td><code>qiskit-terra</code></td><td>0.25.1</td></tr><tr><th colspan='2'>System information</th></tr><tr><td>Python version</td><td>3.11.7</td></tr><tr><td>Python compiler</td><td>MSC v.1937 64 bit (AMD64)</td></tr><tr><td>Python build</td><td>tags/v3.11.7:fa7a6f2, Dec  4 2023 19:24:49</td></tr><tr><td>OS</td><td>Windows</td></tr><tr><td>CPUs</td><td>16</td></tr><tr><td>Memory (Gb)</td><td>31.73064422607422</td></tr><tr><td colspan='2'>Thu Jan 25 16:39:03 2024 Malay Peninsula Standard Time</td></tr></table>"
      ],
      "text/plain": [
       "<IPython.core.display.HTML object>"
      ]
     },
     "metadata": {},
     "output_type": "display_data"
    }
   ],
   "source": [
    "import qiskit.tools.jupyter\n",
    "%qiskit_version_table"
   ]
  },
  {
   "cell_type": "code",
   "execution_count": null,
   "metadata": {},
   "outputs": [],
   "source": []
  }
 ],
 "metadata": {
  "kernelspec": {
   "display_name": "Python 3",
   "language": "python",
   "name": "python3"
  },
  "language_info": {
   "codemirror_mode": {
    "name": "ipython",
    "version": 3
   },
   "file_extension": ".py",
   "mimetype": "text/x-python",
   "name": "python",
   "nbconvert_exporter": "python",
   "pygments_lexer": "ipython3",
   "version": "3.11.7"
  }
 },
 "nbformat": 4,
 "nbformat_minor": 2
}
